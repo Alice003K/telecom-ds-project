{
 "cells": [
  {
   "cell_type": "markdown",
   "metadata": {
    "id": "3sEbSMEASzUg"
   },
   "source": [
    "## Project description"
   ]
  },
  {
   "cell_type": "markdown",
   "metadata": {
    "id": "Ik8cpcixTUSx"
   },
   "source": [
    "The customer is a telecommunications operator \"Notasinglebreak.com\". They want to learn to make predictions about  cancelations among their clients. And in case a client would like to cancel their contract the company could suggest some promotions and special conditions.\n",
    "\n",
    "The team of the customer collected personal data about some of their clients: information about tariffs and contracts. There are 4 given datasets:\n",
    "\n",
    "1. `contract.csv` — info about contracts;\n",
    "2. `personal.csv` — personal client data;\n",
    "3. `internet.csv` — info about web services;\n",
    "4. `phone.csv` — info about phone services.\n",
    "\n",
    "The public key for all these datasets: customerID (client's code).\n",
    "\n",
    "All these datasets are up to date as of 1 February 2020."
   ]
  },
  {
   "cell_type": "markdown",
   "metadata": {
    "id": "hh6o6KDXTWjq"
   },
   "source": [
    "### Description of services provided by the customer"
   ]
  },
  {
   "cell_type": "markdown",
   "metadata": {
    "id": "fW_tZbidX8ts"
   },
   "source": [
    "Main services:\n",
    "\n",
    "1. A landline telephone. There is a possibility to connect a telephone device to several lines at the same time.\n",
    "2. The Internet. There are two types of connection: DSL and Fiber optic.\n",
    "\n",
    "Extra services:\n",
    "* Cyber-security: antivirus (DeviceProtection) and block unsafe sites (OnlineSecurity);\n",
    "* A separate line for tech support (TechSupport);\n",
    "* A cloud storage for backups (OnlineBackup);\n",
    "* A streaming television (StreamingTV) and a catalog of movies (StreamingMovies).\n",
    "\n",
    "Clients can pay for these services each month or once a year or two. Different payment ways and e-checks are available."
   ]
  },
  {
   "cell_type": "markdown",
   "metadata": {
    "id": "NV0E5RVdhVUN"
   },
   "source": [
    "## Data loading"
   ]
  },
  {
   "cell_type": "markdown",
   "metadata": {
    "id": "Kk_q811An1iW"
   },
   "source": [
    "First, let's take a look at the data."
   ]
  },
  {
   "cell_type": "markdown",
   "metadata": {
    "id": "OuwKC3UXoBgT"
   },
   "source": [
    "### Install libraries"
   ]
  },
  {
   "cell_type": "markdown",
   "metadata": {
    "id": "f9n8ynzVoN4X"
   },
   "source": [
    "Let's update and install the libraries that we will need in the development of the project:"
   ]
  },
  {
   "cell_type": "code",
   "execution_count": 1,
   "metadata": {
    "colab": {
     "base_uri": "https://localhost:8080/"
    },
    "id": "6r4KlVJorbLR",
    "outputId": "4535a71b-2a27-47a6-bf9c-6ba517d94383",
    "scrolled": true
   },
   "outputs": [
    {
     "name": "stdout",
     "output_type": "stream",
     "text": [
      "Requirement already satisfied: xgboost in c:\\users\\a3lic\\appdata\\local\\programs\\python\\python311\\lib\\site-packages (2.0.0)\n",
      "Requirement already satisfied: numpy in c:\\users\\a3lic\\appdata\\local\\programs\\python\\python311\\lib\\site-packages (from xgboost) (1.25.0)\n",
      "Requirement already satisfied: scipy in c:\\users\\a3lic\\appdata\\local\\programs\\python\\python311\\lib\\site-packages (from xgboost) (1.11.1)\n",
      "Requirement already satisfied: phik in c:\\users\\a3lic\\appdata\\local\\programs\\python\\python311\\lib\\site-packages (0.12.3)\n",
      "Requirement already satisfied: numpy>=1.18.0 in c:\\users\\a3lic\\appdata\\local\\programs\\python\\python311\\lib\\site-packages (from phik) (1.25.0)\n",
      "Requirement already satisfied: scipy>=1.5.2 in c:\\users\\a3lic\\appdata\\local\\programs\\python\\python311\\lib\\site-packages (from phik) (1.11.1)\n",
      "Requirement already satisfied: pandas>=0.25.1 in c:\\users\\a3lic\\appdata\\local\\programs\\python\\python311\\lib\\site-packages (from phik) (2.0.3)\n",
      "Requirement already satisfied: matplotlib>=2.2.3 in c:\\users\\a3lic\\appdata\\local\\programs\\python\\python311\\lib\\site-packages (from phik) (3.8.0)\n",
      "Requirement already satisfied: joblib>=0.14.1 in c:\\users\\a3lic\\appdata\\local\\programs\\python\\python311\\lib\\site-packages (from phik) (1.3.1)\n",
      "Requirement already satisfied: contourpy>=1.0.1 in c:\\users\\a3lic\\appdata\\local\\programs\\python\\python311\\lib\\site-packages (from matplotlib>=2.2.3->phik) (1.1.0)\n",
      "Requirement already satisfied: cycler>=0.10 in c:\\users\\a3lic\\appdata\\local\\programs\\python\\python311\\lib\\site-packages (from matplotlib>=2.2.3->phik) (0.11.0)\n",
      "Requirement already satisfied: fonttools>=4.22.0 in c:\\users\\a3lic\\appdata\\local\\programs\\python\\python311\\lib\\site-packages (from matplotlib>=2.2.3->phik) (4.40.0)\n",
      "Requirement already satisfied: kiwisolver>=1.0.1 in c:\\users\\a3lic\\appdata\\local\\programs\\python\\python311\\lib\\site-packages (from matplotlib>=2.2.3->phik) (1.4.4)\n",
      "Requirement already satisfied: packaging>=20.0 in c:\\users\\a3lic\\appdata\\local\\programs\\python\\python311\\lib\\site-packages (from matplotlib>=2.2.3->phik) (23.1)\n",
      "Requirement already satisfied: pillow>=6.2.0 in c:\\users\\a3lic\\appdata\\local\\programs\\python\\python311\\lib\\site-packages (from matplotlib>=2.2.3->phik) (9.5.0)\n",
      "Requirement already satisfied: pyparsing>=2.3.1 in c:\\users\\a3lic\\appdata\\local\\programs\\python\\python311\\lib\\site-packages (from matplotlib>=2.2.3->phik) (3.1.0)\n",
      "Requirement already satisfied: python-dateutil>=2.7 in c:\\users\\a3lic\\appdata\\local\\programs\\python\\python311\\lib\\site-packages (from matplotlib>=2.2.3->phik) (2.8.2)\n",
      "Requirement already satisfied: pytz>=2020.1 in c:\\users\\a3lic\\appdata\\local\\programs\\python\\python311\\lib\\site-packages (from pandas>=0.25.1->phik) (2023.3)\n",
      "Requirement already satisfied: tzdata>=2022.1 in c:\\users\\a3lic\\appdata\\local\\programs\\python\\python311\\lib\\site-packages (from pandas>=0.25.1->phik) (2023.3)\n",
      "Requirement already satisfied: six>=1.5 in c:\\users\\a3lic\\appdata\\local\\programs\\python\\python311\\lib\\site-packages (from python-dateutil>=2.7->matplotlib>=2.2.3->phik) (1.16.0)\n",
      "Requirement already satisfied: matplotlib in c:\\users\\a3lic\\appdata\\local\\programs\\python\\python311\\lib\\site-packages (3.8.0)\n",
      "Requirement already satisfied: contourpy>=1.0.1 in c:\\users\\a3lic\\appdata\\local\\programs\\python\\python311\\lib\\site-packages (from matplotlib) (1.1.0)\n",
      "Requirement already satisfied: cycler>=0.10 in c:\\users\\a3lic\\appdata\\local\\programs\\python\\python311\\lib\\site-packages (from matplotlib) (0.11.0)\n",
      "Requirement already satisfied: fonttools>=4.22.0 in c:\\users\\a3lic\\appdata\\local\\programs\\python\\python311\\lib\\site-packages (from matplotlib) (4.40.0)\n",
      "Requirement already satisfied: kiwisolver>=1.0.1 in c:\\users\\a3lic\\appdata\\local\\programs\\python\\python311\\lib\\site-packages (from matplotlib) (1.4.4)\n",
      "Requirement already satisfied: numpy<2,>=1.21 in c:\\users\\a3lic\\appdata\\local\\programs\\python\\python311\\lib\\site-packages (from matplotlib) (1.25.0)\n",
      "Requirement already satisfied: packaging>=20.0 in c:\\users\\a3lic\\appdata\\local\\programs\\python\\python311\\lib\\site-packages (from matplotlib) (23.1)\n",
      "Requirement already satisfied: pillow>=6.2.0 in c:\\users\\a3lic\\appdata\\local\\programs\\python\\python311\\lib\\site-packages (from matplotlib) (9.5.0)\n",
      "Requirement already satisfied: pyparsing>=2.3.1 in c:\\users\\a3lic\\appdata\\local\\programs\\python\\python311\\lib\\site-packages (from matplotlib) (3.1.0)\n",
      "Requirement already satisfied: python-dateutil>=2.7 in c:\\users\\a3lic\\appdata\\local\\programs\\python\\python311\\lib\\site-packages (from matplotlib) (2.8.2)\n",
      "Requirement already satisfied: six>=1.5 in c:\\users\\a3lic\\appdata\\local\\programs\\python\\python311\\lib\\site-packages (from python-dateutil>=2.7->matplotlib) (1.16.0)\n",
      "Requirement already satisfied: scikit-learn in c:\\users\\a3lic\\appdata\\local\\programs\\python\\python311\\lib\\site-packages (1.3.1)\n",
      "Requirement already satisfied: numpy<2.0,>=1.17.3 in c:\\users\\a3lic\\appdata\\local\\programs\\python\\python311\\lib\\site-packages (from scikit-learn) (1.25.0)\n",
      "Requirement already satisfied: scipy>=1.5.0 in c:\\users\\a3lic\\appdata\\local\\programs\\python\\python311\\lib\\site-packages (from scikit-learn) (1.11.1)\n",
      "Requirement already satisfied: joblib>=1.1.1 in c:\\users\\a3lic\\appdata\\local\\programs\\python\\python311\\lib\\site-packages (from scikit-learn) (1.3.1)\n",
      "Requirement already satisfied: threadpoolctl>=2.0.0 in c:\\users\\a3lic\\appdata\\local\\programs\\python\\python311\\lib\\site-packages (from scikit-learn) (3.1.0)\n",
      "Requirement already satisfied: seaborn in c:\\users\\a3lic\\appdata\\local\\programs\\python\\python311\\lib\\site-packages (0.13.0)\n",
      "Requirement already satisfied: numpy!=1.24.0,>=1.20 in c:\\users\\a3lic\\appdata\\local\\programs\\python\\python311\\lib\\site-packages (from seaborn) (1.25.0)\n",
      "Requirement already satisfied: pandas>=1.2 in c:\\users\\a3lic\\appdata\\local\\programs\\python\\python311\\lib\\site-packages (from seaborn) (2.0.3)\n",
      "Requirement already satisfied: matplotlib!=3.6.1,>=3.3 in c:\\users\\a3lic\\appdata\\local\\programs\\python\\python311\\lib\\site-packages (from seaborn) (3.8.0)\n",
      "Requirement already satisfied: contourpy>=1.0.1 in c:\\users\\a3lic\\appdata\\local\\programs\\python\\python311\\lib\\site-packages (from matplotlib!=3.6.1,>=3.3->seaborn) (1.1.0)\n",
      "Requirement already satisfied: cycler>=0.10 in c:\\users\\a3lic\\appdata\\local\\programs\\python\\python311\\lib\\site-packages (from matplotlib!=3.6.1,>=3.3->seaborn) (0.11.0)\n",
      "Requirement already satisfied: fonttools>=4.22.0 in c:\\users\\a3lic\\appdata\\local\\programs\\python\\python311\\lib\\site-packages (from matplotlib!=3.6.1,>=3.3->seaborn) (4.40.0)\n",
      "Requirement already satisfied: kiwisolver>=1.0.1 in c:\\users\\a3lic\\appdata\\local\\programs\\python\\python311\\lib\\site-packages (from matplotlib!=3.6.1,>=3.3->seaborn) (1.4.4)\n",
      "Requirement already satisfied: packaging>=20.0 in c:\\users\\a3lic\\appdata\\local\\programs\\python\\python311\\lib\\site-packages (from matplotlib!=3.6.1,>=3.3->seaborn) (23.1)\n",
      "Requirement already satisfied: pillow>=6.2.0 in c:\\users\\a3lic\\appdata\\local\\programs\\python\\python311\\lib\\site-packages (from matplotlib!=3.6.1,>=3.3->seaborn) (9.5.0)\n",
      "Requirement already satisfied: pyparsing>=2.3.1 in c:\\users\\a3lic\\appdata\\local\\programs\\python\\python311\\lib\\site-packages (from matplotlib!=3.6.1,>=3.3->seaborn) (3.1.0)\n",
      "Requirement already satisfied: python-dateutil>=2.7 in c:\\users\\a3lic\\appdata\\local\\programs\\python\\python311\\lib\\site-packages (from matplotlib!=3.6.1,>=3.3->seaborn) (2.8.2)\n",
      "Requirement already satisfied: pytz>=2020.1 in c:\\users\\a3lic\\appdata\\local\\programs\\python\\python311\\lib\\site-packages (from pandas>=1.2->seaborn) (2023.3)\n",
      "Requirement already satisfied: tzdata>=2022.1 in c:\\users\\a3lic\\appdata\\local\\programs\\python\\python311\\lib\\site-packages (from pandas>=1.2->seaborn) (2023.3)\n",
      "Requirement already satisfied: six>=1.5 in c:\\users\\a3lic\\appdata\\local\\programs\\python\\python311\\lib\\site-packages (from python-dateutil>=2.7->matplotlib!=3.6.1,>=3.3->seaborn) (1.16.0)\n",
      "Requirement already satisfied: category_encoders in c:\\users\\a3lic\\appdata\\local\\programs\\python\\python311\\lib\\site-packages (2.6.1)\n",
      "Requirement already satisfied: numpy>=1.14.0 in c:\\users\\a3lic\\appdata\\local\\programs\\python\\python311\\lib\\site-packages (from category_encoders) (1.25.0)\n",
      "Requirement already satisfied: scikit-learn>=0.20.0 in c:\\users\\a3lic\\appdata\\local\\programs\\python\\python311\\lib\\site-packages (from category_encoders) (1.3.1)\n",
      "Requirement already satisfied: scipy>=1.0.0 in c:\\users\\a3lic\\appdata\\local\\programs\\python\\python311\\lib\\site-packages (from category_encoders) (1.11.1)\n",
      "Requirement already satisfied: statsmodels>=0.9.0 in c:\\users\\a3lic\\appdata\\local\\programs\\python\\python311\\lib\\site-packages (from category_encoders) (0.14.0)\n",
      "Requirement already satisfied: pandas>=1.0.5 in c:\\users\\a3lic\\appdata\\local\\programs\\python\\python311\\lib\\site-packages (from category_encoders) (2.0.3)\n",
      "Requirement already satisfied: patsy>=0.5.1 in c:\\users\\a3lic\\appdata\\local\\programs\\python\\python311\\lib\\site-packages (from category_encoders) (0.5.3)\n",
      "Requirement already satisfied: python-dateutil>=2.8.2 in c:\\users\\a3lic\\appdata\\local\\programs\\python\\python311\\lib\\site-packages (from pandas>=1.0.5->category_encoders) (2.8.2)\n",
      "Requirement already satisfied: pytz>=2020.1 in c:\\users\\a3lic\\appdata\\local\\programs\\python\\python311\\lib\\site-packages (from pandas>=1.0.5->category_encoders) (2023.3)\n",
      "Requirement already satisfied: tzdata>=2022.1 in c:\\users\\a3lic\\appdata\\local\\programs\\python\\python311\\lib\\site-packages (from pandas>=1.0.5->category_encoders) (2023.3)\n",
      "Requirement already satisfied: six in c:\\users\\a3lic\\appdata\\local\\programs\\python\\python311\\lib\\site-packages (from patsy>=0.5.1->category_encoders) (1.16.0)\n",
      "Requirement already satisfied: joblib>=1.1.1 in c:\\users\\a3lic\\appdata\\local\\programs\\python\\python311\\lib\\site-packages (from scikit-learn>=0.20.0->category_encoders) (1.3.1)\n",
      "Requirement already satisfied: threadpoolctl>=2.0.0 in c:\\users\\a3lic\\appdata\\local\\programs\\python\\python311\\lib\\site-packages (from scikit-learn>=0.20.0->category_encoders) (3.1.0)\n",
      "Requirement already satisfied: packaging>=21.3 in c:\\users\\a3lic\\appdata\\local\\programs\\python\\python311\\lib\\site-packages (from statsmodels>=0.9.0->category_encoders) (23.1)\n"
     ]
    },
    {
     "name": "stdout",
     "output_type": "stream",
     "text": [
      "Requirement already satisfied: shap in c:\\users\\a3lic\\appdata\\local\\programs\\python\\python311\\lib\\site-packages (0.42.1)\n",
      "Requirement already satisfied: numpy in c:\\users\\a3lic\\appdata\\local\\programs\\python\\python311\\lib\\site-packages (from shap) (1.25.0)\n",
      "Requirement already satisfied: scipy in c:\\users\\a3lic\\appdata\\local\\programs\\python\\python311\\lib\\site-packages (from shap) (1.11.1)\n",
      "Requirement already satisfied: scikit-learn in c:\\users\\a3lic\\appdata\\local\\programs\\python\\python311\\lib\\site-packages (from shap) (1.3.1)\n",
      "Requirement already satisfied: pandas in c:\\users\\a3lic\\appdata\\local\\programs\\python\\python311\\lib\\site-packages (from shap) (2.0.3)\n",
      "Requirement already satisfied: tqdm>=4.27.0 in c:\\users\\a3lic\\appdata\\local\\programs\\python\\python311\\lib\\site-packages (from shap) (4.66.1)\n",
      "Requirement already satisfied: packaging>20.9 in c:\\users\\a3lic\\appdata\\local\\programs\\python\\python311\\lib\\site-packages (from shap) (23.1)\n",
      "Requirement already satisfied: slicer==0.0.7 in c:\\users\\a3lic\\appdata\\local\\programs\\python\\python311\\lib\\site-packages (from shap) (0.0.7)\n",
      "Requirement already satisfied: numba in c:\\users\\a3lic\\appdata\\local\\programs\\python\\python311\\lib\\site-packages (from shap) (0.58.0)\n",
      "Requirement already satisfied: cloudpickle in c:\\users\\a3lic\\appdata\\local\\programs\\python\\python311\\lib\\site-packages (from shap) (2.2.1)\n",
      "Requirement already satisfied: colorama in c:\\users\\a3lic\\appdata\\local\\programs\\python\\python311\\lib\\site-packages (from tqdm>=4.27.0->shap) (0.4.6)\n",
      "Requirement already satisfied: llvmlite<0.42,>=0.41.0dev0 in c:\\users\\a3lic\\appdata\\local\\programs\\python\\python311\\lib\\site-packages (from numba->shap) (0.41.0)\n",
      "Requirement already satisfied: python-dateutil>=2.8.2 in c:\\users\\a3lic\\appdata\\local\\programs\\python\\python311\\lib\\site-packages (from pandas->shap) (2.8.2)\n",
      "Requirement already satisfied: pytz>=2020.1 in c:\\users\\a3lic\\appdata\\local\\programs\\python\\python311\\lib\\site-packages (from pandas->shap) (2023.3)\n",
      "Requirement already satisfied: tzdata>=2022.1 in c:\\users\\a3lic\\appdata\\local\\programs\\python\\python311\\lib\\site-packages (from pandas->shap) (2023.3)\n",
      "Requirement already satisfied: joblib>=1.1.1 in c:\\users\\a3lic\\appdata\\local\\programs\\python\\python311\\lib\\site-packages (from scikit-learn->shap) (1.3.1)\n",
      "Requirement already satisfied: threadpoolctl>=2.0.0 in c:\\users\\a3lic\\appdata\\local\\programs\\python\\python311\\lib\\site-packages (from scikit-learn->shap) (3.1.0)\n",
      "Requirement already satisfied: six>=1.5 in c:\\users\\a3lic\\appdata\\local\\programs\\python\\python311\\lib\\site-packages (from python-dateutil>=2.8.2->pandas->shap) (1.16.0)\n",
      "Requirement already satisfied: requests in c:\\users\\a3lic\\appdata\\local\\programs\\python\\python311\\lib\\site-packages (2.31.0)\n",
      "Requirement already satisfied: charset-normalizer<4,>=2 in c:\\users\\a3lic\\appdata\\local\\programs\\python\\python311\\lib\\site-packages (from requests) (3.3.0)\n",
      "Requirement already satisfied: idna<4,>=2.5 in c:\\users\\a3lic\\appdata\\local\\programs\\python\\python311\\lib\\site-packages (from requests) (3.4)\n",
      "Requirement already satisfied: urllib3<3,>=1.21.1 in c:\\users\\a3lic\\appdata\\local\\programs\\python\\python311\\lib\\site-packages (from requests) (2.0.5)\n",
      "Requirement already satisfied: certifi>=2017.4.17 in c:\\users\\a3lic\\appdata\\local\\programs\\python\\python311\\lib\\site-packages (from requests) (2023.7.22)\n"
     ]
    }
   ],
   "source": [
    "!pip install xgboost\n",
    "!pip install phik\n",
    "!pip install -U matplotlib\n",
    "!pip install -U scikit-learn\n",
    "!pip install -U seaborn\n",
    "!pip install category_encoders\n",
    "!pip install shap\n",
    "!pip install requests"
   ]
  },
  {
   "cell_type": "code",
   "execution_count": 2,
   "metadata": {
    "id": "PPKbPTKBouJP"
   },
   "outputs": [
    {
     "name": "stderr",
     "output_type": "stream",
     "text": [
      "Using `tqdm.autonotebook.tqdm` in notebook mode. Use `tqdm.tqdm` instead to force console mode (e.g. in jupyter console)\n"
     ]
    }
   ],
   "source": [
    "import category_encoders as ce\n",
    "import functools as ft\n",
    "import io\n",
    "import matplotlib.pyplot as plt\n",
    "import numpy as np \n",
    "import pandas as pd\n",
    "import phik\n",
    "import requests\n",
    "import seaborn as sns\n",
    "import shap\n",
    "import warnings\n",
    "\n",
    "from phik import resources, report\n",
    "from sklearn.compose import make_column_transformer\n",
    "from sklearn.ensemble import RandomForestClassifier\n",
    "from sklearn.metrics import (\n",
    "    accuracy_score,\n",
    "    roc_auc_score,\n",
    "    roc_curve\n",
    ")\n",
    "from sklearn.model_selection import cross_val_score\n",
    "from sklearn.model_selection import GridSearchCV\n",
    "from sklearn.model_selection import train_test_split\n",
    "from sklearn.model_selection import RandomizedSearchCV\n",
    "from sklearn.pipeline import Pipeline\n",
    "from sklearn.pipeline import make_pipeline\n",
    "from sklearn.preprocessing import (\n",
    "    OneHotEncoder,\n",
    "    OrdinalEncoder,\n",
    "    StandardScaler\n",
    ")\n",
    "from sklearn.svm import SVC\n",
    "from xgboost import XGBClassifier\n",
    "\n",
    "warnings.filterwarnings(\"ignore\")\n",
    "\n",
    "RANDOM_STATE = 130323"
   ]
  },
  {
   "cell_type": "markdown",
   "metadata": {
    "id": "2Y_krNUYqzaP"
   },
   "source": [
    "### Familiarization with the given data"
   ]
  },
  {
   "cell_type": "markdown",
   "metadata": {
    "id": "j-5Sa4xAtMQu"
   },
   "source": [
    "There are four files with the given data. Let's read them:"
   ]
  },
  {
   "cell_type": "code",
   "execution_count": 3,
   "metadata": {},
   "outputs": [],
   "source": [
    "url = [] #the list with given urls\n",
    "url =['https://13dagger.com/datasets/contract.csv', 'https://13dagger.com/datasets/internet.csv', \n",
    "       'https://13dagger.com/datasets/personal.csv','https://13dagger.com/datasets/phone.csv']\n",
    "\n",
    "def read_content(url): #function to read the content from the url \n",
    "    s = requests.get(url).content\n",
    "    return io.StringIO(s.decode('utf-8'))"
   ]
  },
  {
   "cell_type": "code",
   "execution_count": 4,
   "metadata": {
    "id": "-dFV5kvQs6Dx"
   },
   "outputs": [],
   "source": [
    "try:\n",
    "    df_contract = pd.read_csv(read_content(url[0]))\n",
    "    df_internet = pd.read_csv(read_content(url[1])) \n",
    "    df_personal = pd.read_csv(read_content(url[2]))\n",
    "    df_phone = pd.read_csv(read_content(url[3]))\n",
    "except:\n",
    "    df_contract = pd.read_csv('/datasets/final_provider/contract.csv')\n",
    "    df_internet = pd.read_csv('/datasets/final_provider/internet.csv') \n",
    "    df_personal = pd.read_csv('/datasets/final_provider/personal.csv')\n",
    "    df_phone = pd.read_csv('/datasets/final_provider/phone.csv')"
   ]
  },
  {
   "cell_type": "markdown",
   "metadata": {
    "id": "_FKWUpgEuOyg"
   },
   "source": [
    "Let'd create a special function for reading datasets:"
   ]
  },
  {
   "cell_type": "code",
   "execution_count": 5,
   "metadata": {
    "id": "dqhL-Q1lxq0U"
   },
   "outputs": [],
   "source": [
    "def get_data_info(data):\n",
    "    display(data.head())\n",
    "    display(data.info())\n",
    "    display(data.describe())\n",
    "    print()\n",
    "    print()"
   ]
  },
  {
   "cell_type": "code",
   "execution_count": 6,
   "metadata": {
    "colab": {
     "base_uri": "https://localhost:8080/",
     "height": 1000
    },
    "id": "BETsxcz8ytf5",
    "outputId": "7582c5a0-fcd2-4625-b3ae-faa7e7f1c0a0"
   },
   "outputs": [
    {
     "data": {
      "text/html": [
       "<div>\n",
       "<style scoped>\n",
       "    .dataframe tbody tr th:only-of-type {\n",
       "        vertical-align: middle;\n",
       "    }\n",
       "\n",
       "    .dataframe tbody tr th {\n",
       "        vertical-align: top;\n",
       "    }\n",
       "\n",
       "    .dataframe thead th {\n",
       "        text-align: right;\n",
       "    }\n",
       "</style>\n",
       "<table border=\"1\" class=\"dataframe\">\n",
       "  <thead>\n",
       "    <tr style=\"text-align: right;\">\n",
       "      <th></th>\n",
       "      <th>customerID</th>\n",
       "      <th>BeginDate</th>\n",
       "      <th>EndDate</th>\n",
       "      <th>Type</th>\n",
       "      <th>PaperlessBilling</th>\n",
       "      <th>PaymentMethod</th>\n",
       "      <th>MonthlyCharges</th>\n",
       "      <th>TotalCharges</th>\n",
       "    </tr>\n",
       "  </thead>\n",
       "  <tbody>\n",
       "    <tr>\n",
       "      <th>0</th>\n",
       "      <td>7590-VHVEG</td>\n",
       "      <td>2020-01-01</td>\n",
       "      <td>No</td>\n",
       "      <td>Month-to-month</td>\n",
       "      <td>Yes</td>\n",
       "      <td>Electronic check</td>\n",
       "      <td>29.85</td>\n",
       "      <td>29.85</td>\n",
       "    </tr>\n",
       "    <tr>\n",
       "      <th>1</th>\n",
       "      <td>5575-GNVDE</td>\n",
       "      <td>2017-04-01</td>\n",
       "      <td>No</td>\n",
       "      <td>One year</td>\n",
       "      <td>No</td>\n",
       "      <td>Mailed check</td>\n",
       "      <td>56.95</td>\n",
       "      <td>1889.5</td>\n",
       "    </tr>\n",
       "    <tr>\n",
       "      <th>2</th>\n",
       "      <td>3668-QPYBK</td>\n",
       "      <td>2019-10-01</td>\n",
       "      <td>2019-12-01 00:00:00</td>\n",
       "      <td>Month-to-month</td>\n",
       "      <td>Yes</td>\n",
       "      <td>Mailed check</td>\n",
       "      <td>53.85</td>\n",
       "      <td>108.15</td>\n",
       "    </tr>\n",
       "    <tr>\n",
       "      <th>3</th>\n",
       "      <td>7795-CFOCW</td>\n",
       "      <td>2016-05-01</td>\n",
       "      <td>No</td>\n",
       "      <td>One year</td>\n",
       "      <td>No</td>\n",
       "      <td>Bank transfer (automatic)</td>\n",
       "      <td>42.30</td>\n",
       "      <td>1840.75</td>\n",
       "    </tr>\n",
       "    <tr>\n",
       "      <th>4</th>\n",
       "      <td>9237-HQITU</td>\n",
       "      <td>2019-09-01</td>\n",
       "      <td>2019-11-01 00:00:00</td>\n",
       "      <td>Month-to-month</td>\n",
       "      <td>Yes</td>\n",
       "      <td>Electronic check</td>\n",
       "      <td>70.70</td>\n",
       "      <td>151.65</td>\n",
       "    </tr>\n",
       "  </tbody>\n",
       "</table>\n",
       "</div>"
      ],
      "text/plain": [
       "   customerID   BeginDate              EndDate            Type  \\\n",
       "0  7590-VHVEG  2020-01-01                   No  Month-to-month   \n",
       "1  5575-GNVDE  2017-04-01                   No        One year   \n",
       "2  3668-QPYBK  2019-10-01  2019-12-01 00:00:00  Month-to-month   \n",
       "3  7795-CFOCW  2016-05-01                   No        One year   \n",
       "4  9237-HQITU  2019-09-01  2019-11-01 00:00:00  Month-to-month   \n",
       "\n",
       "  PaperlessBilling              PaymentMethod  MonthlyCharges TotalCharges  \n",
       "0              Yes           Electronic check           29.85        29.85  \n",
       "1               No               Mailed check           56.95       1889.5  \n",
       "2              Yes               Mailed check           53.85       108.15  \n",
       "3               No  Bank transfer (automatic)           42.30      1840.75  \n",
       "4              Yes           Electronic check           70.70       151.65  "
      ]
     },
     "metadata": {},
     "output_type": "display_data"
    },
    {
     "name": "stdout",
     "output_type": "stream",
     "text": [
      "<class 'pandas.core.frame.DataFrame'>\n",
      "RangeIndex: 7043 entries, 0 to 7042\n",
      "Data columns (total 8 columns):\n",
      " #   Column            Non-Null Count  Dtype  \n",
      "---  ------            --------------  -----  \n",
      " 0   customerID        7043 non-null   object \n",
      " 1   BeginDate         7043 non-null   object \n",
      " 2   EndDate           7043 non-null   object \n",
      " 3   Type              7043 non-null   object \n",
      " 4   PaperlessBilling  7043 non-null   object \n",
      " 5   PaymentMethod     7043 non-null   object \n",
      " 6   MonthlyCharges    7043 non-null   float64\n",
      " 7   TotalCharges      7043 non-null   object \n",
      "dtypes: float64(1), object(7)\n",
      "memory usage: 440.3+ KB\n"
     ]
    },
    {
     "data": {
      "text/plain": [
       "None"
      ]
     },
     "metadata": {},
     "output_type": "display_data"
    },
    {
     "data": {
      "text/html": [
       "<div>\n",
       "<style scoped>\n",
       "    .dataframe tbody tr th:only-of-type {\n",
       "        vertical-align: middle;\n",
       "    }\n",
       "\n",
       "    .dataframe tbody tr th {\n",
       "        vertical-align: top;\n",
       "    }\n",
       "\n",
       "    .dataframe thead th {\n",
       "        text-align: right;\n",
       "    }\n",
       "</style>\n",
       "<table border=\"1\" class=\"dataframe\">\n",
       "  <thead>\n",
       "    <tr style=\"text-align: right;\">\n",
       "      <th></th>\n",
       "      <th>MonthlyCharges</th>\n",
       "    </tr>\n",
       "  </thead>\n",
       "  <tbody>\n",
       "    <tr>\n",
       "      <th>count</th>\n",
       "      <td>7043.000000</td>\n",
       "    </tr>\n",
       "    <tr>\n",
       "      <th>mean</th>\n",
       "      <td>64.761692</td>\n",
       "    </tr>\n",
       "    <tr>\n",
       "      <th>std</th>\n",
       "      <td>30.090047</td>\n",
       "    </tr>\n",
       "    <tr>\n",
       "      <th>min</th>\n",
       "      <td>18.250000</td>\n",
       "    </tr>\n",
       "    <tr>\n",
       "      <th>25%</th>\n",
       "      <td>35.500000</td>\n",
       "    </tr>\n",
       "    <tr>\n",
       "      <th>50%</th>\n",
       "      <td>70.350000</td>\n",
       "    </tr>\n",
       "    <tr>\n",
       "      <th>75%</th>\n",
       "      <td>89.850000</td>\n",
       "    </tr>\n",
       "    <tr>\n",
       "      <th>max</th>\n",
       "      <td>118.750000</td>\n",
       "    </tr>\n",
       "  </tbody>\n",
       "</table>\n",
       "</div>"
      ],
      "text/plain": [
       "       MonthlyCharges\n",
       "count     7043.000000\n",
       "mean        64.761692\n",
       "std         30.090047\n",
       "min         18.250000\n",
       "25%         35.500000\n",
       "50%         70.350000\n",
       "75%         89.850000\n",
       "max        118.750000"
      ]
     },
     "metadata": {},
     "output_type": "display_data"
    },
    {
     "name": "stdout",
     "output_type": "stream",
     "text": [
      "\n",
      "\n"
     ]
    },
    {
     "data": {
      "text/html": [
       "<div>\n",
       "<style scoped>\n",
       "    .dataframe tbody tr th:only-of-type {\n",
       "        vertical-align: middle;\n",
       "    }\n",
       "\n",
       "    .dataframe tbody tr th {\n",
       "        vertical-align: top;\n",
       "    }\n",
       "\n",
       "    .dataframe thead th {\n",
       "        text-align: right;\n",
       "    }\n",
       "</style>\n",
       "<table border=\"1\" class=\"dataframe\">\n",
       "  <thead>\n",
       "    <tr style=\"text-align: right;\">\n",
       "      <th></th>\n",
       "      <th>customerID</th>\n",
       "      <th>InternetService</th>\n",
       "      <th>OnlineSecurity</th>\n",
       "      <th>OnlineBackup</th>\n",
       "      <th>DeviceProtection</th>\n",
       "      <th>TechSupport</th>\n",
       "      <th>StreamingTV</th>\n",
       "      <th>StreamingMovies</th>\n",
       "    </tr>\n",
       "  </thead>\n",
       "  <tbody>\n",
       "    <tr>\n",
       "      <th>0</th>\n",
       "      <td>7590-VHVEG</td>\n",
       "      <td>DSL</td>\n",
       "      <td>No</td>\n",
       "      <td>Yes</td>\n",
       "      <td>No</td>\n",
       "      <td>No</td>\n",
       "      <td>No</td>\n",
       "      <td>No</td>\n",
       "    </tr>\n",
       "    <tr>\n",
       "      <th>1</th>\n",
       "      <td>5575-GNVDE</td>\n",
       "      <td>DSL</td>\n",
       "      <td>Yes</td>\n",
       "      <td>No</td>\n",
       "      <td>Yes</td>\n",
       "      <td>No</td>\n",
       "      <td>No</td>\n",
       "      <td>No</td>\n",
       "    </tr>\n",
       "    <tr>\n",
       "      <th>2</th>\n",
       "      <td>3668-QPYBK</td>\n",
       "      <td>DSL</td>\n",
       "      <td>Yes</td>\n",
       "      <td>Yes</td>\n",
       "      <td>No</td>\n",
       "      <td>No</td>\n",
       "      <td>No</td>\n",
       "      <td>No</td>\n",
       "    </tr>\n",
       "    <tr>\n",
       "      <th>3</th>\n",
       "      <td>7795-CFOCW</td>\n",
       "      <td>DSL</td>\n",
       "      <td>Yes</td>\n",
       "      <td>No</td>\n",
       "      <td>Yes</td>\n",
       "      <td>Yes</td>\n",
       "      <td>No</td>\n",
       "      <td>No</td>\n",
       "    </tr>\n",
       "    <tr>\n",
       "      <th>4</th>\n",
       "      <td>9237-HQITU</td>\n",
       "      <td>Fiber optic</td>\n",
       "      <td>No</td>\n",
       "      <td>No</td>\n",
       "      <td>No</td>\n",
       "      <td>No</td>\n",
       "      <td>No</td>\n",
       "      <td>No</td>\n",
       "    </tr>\n",
       "  </tbody>\n",
       "</table>\n",
       "</div>"
      ],
      "text/plain": [
       "   customerID InternetService OnlineSecurity OnlineBackup DeviceProtection  \\\n",
       "0  7590-VHVEG             DSL             No          Yes               No   \n",
       "1  5575-GNVDE             DSL            Yes           No              Yes   \n",
       "2  3668-QPYBK             DSL            Yes          Yes               No   \n",
       "3  7795-CFOCW             DSL            Yes           No              Yes   \n",
       "4  9237-HQITU     Fiber optic             No           No               No   \n",
       "\n",
       "  TechSupport StreamingTV StreamingMovies  \n",
       "0          No          No              No  \n",
       "1          No          No              No  \n",
       "2          No          No              No  \n",
       "3         Yes          No              No  \n",
       "4          No          No              No  "
      ]
     },
     "metadata": {},
     "output_type": "display_data"
    },
    {
     "name": "stdout",
     "output_type": "stream",
     "text": [
      "<class 'pandas.core.frame.DataFrame'>\n",
      "RangeIndex: 5517 entries, 0 to 5516\n",
      "Data columns (total 8 columns):\n",
      " #   Column            Non-Null Count  Dtype \n",
      "---  ------            --------------  ----- \n",
      " 0   customerID        5517 non-null   object\n",
      " 1   InternetService   5517 non-null   object\n",
      " 2   OnlineSecurity    5517 non-null   object\n",
      " 3   OnlineBackup      5517 non-null   object\n",
      " 4   DeviceProtection  5517 non-null   object\n",
      " 5   TechSupport       5517 non-null   object\n",
      " 6   StreamingTV       5517 non-null   object\n",
      " 7   StreamingMovies   5517 non-null   object\n",
      "dtypes: object(8)\n",
      "memory usage: 344.9+ KB\n"
     ]
    },
    {
     "data": {
      "text/plain": [
       "None"
      ]
     },
     "metadata": {},
     "output_type": "display_data"
    },
    {
     "data": {
      "text/html": [
       "<div>\n",
       "<style scoped>\n",
       "    .dataframe tbody tr th:only-of-type {\n",
       "        vertical-align: middle;\n",
       "    }\n",
       "\n",
       "    .dataframe tbody tr th {\n",
       "        vertical-align: top;\n",
       "    }\n",
       "\n",
       "    .dataframe thead th {\n",
       "        text-align: right;\n",
       "    }\n",
       "</style>\n",
       "<table border=\"1\" class=\"dataframe\">\n",
       "  <thead>\n",
       "    <tr style=\"text-align: right;\">\n",
       "      <th></th>\n",
       "      <th>customerID</th>\n",
       "      <th>InternetService</th>\n",
       "      <th>OnlineSecurity</th>\n",
       "      <th>OnlineBackup</th>\n",
       "      <th>DeviceProtection</th>\n",
       "      <th>TechSupport</th>\n",
       "      <th>StreamingTV</th>\n",
       "      <th>StreamingMovies</th>\n",
       "    </tr>\n",
       "  </thead>\n",
       "  <tbody>\n",
       "    <tr>\n",
       "      <th>count</th>\n",
       "      <td>5517</td>\n",
       "      <td>5517</td>\n",
       "      <td>5517</td>\n",
       "      <td>5517</td>\n",
       "      <td>5517</td>\n",
       "      <td>5517</td>\n",
       "      <td>5517</td>\n",
       "      <td>5517</td>\n",
       "    </tr>\n",
       "    <tr>\n",
       "      <th>unique</th>\n",
       "      <td>5517</td>\n",
       "      <td>2</td>\n",
       "      <td>2</td>\n",
       "      <td>2</td>\n",
       "      <td>2</td>\n",
       "      <td>2</td>\n",
       "      <td>2</td>\n",
       "      <td>2</td>\n",
       "    </tr>\n",
       "    <tr>\n",
       "      <th>top</th>\n",
       "      <td>7590-VHVEG</td>\n",
       "      <td>Fiber optic</td>\n",
       "      <td>No</td>\n",
       "      <td>No</td>\n",
       "      <td>No</td>\n",
       "      <td>No</td>\n",
       "      <td>No</td>\n",
       "      <td>No</td>\n",
       "    </tr>\n",
       "    <tr>\n",
       "      <th>freq</th>\n",
       "      <td>1</td>\n",
       "      <td>3096</td>\n",
       "      <td>3498</td>\n",
       "      <td>3088</td>\n",
       "      <td>3095</td>\n",
       "      <td>3473</td>\n",
       "      <td>2810</td>\n",
       "      <td>2785</td>\n",
       "    </tr>\n",
       "  </tbody>\n",
       "</table>\n",
       "</div>"
      ],
      "text/plain": [
       "        customerID InternetService OnlineSecurity OnlineBackup  \\\n",
       "count         5517            5517           5517         5517   \n",
       "unique        5517               2              2            2   \n",
       "top     7590-VHVEG     Fiber optic             No           No   \n",
       "freq             1            3096           3498         3088   \n",
       "\n",
       "       DeviceProtection TechSupport StreamingTV StreamingMovies  \n",
       "count              5517        5517        5517            5517  \n",
       "unique                2           2           2               2  \n",
       "top                  No          No          No              No  \n",
       "freq               3095        3473        2810            2785  "
      ]
     },
     "metadata": {},
     "output_type": "display_data"
    },
    {
     "name": "stdout",
     "output_type": "stream",
     "text": [
      "\n",
      "\n"
     ]
    },
    {
     "data": {
      "text/html": [
       "<div>\n",
       "<style scoped>\n",
       "    .dataframe tbody tr th:only-of-type {\n",
       "        vertical-align: middle;\n",
       "    }\n",
       "\n",
       "    .dataframe tbody tr th {\n",
       "        vertical-align: top;\n",
       "    }\n",
       "\n",
       "    .dataframe thead th {\n",
       "        text-align: right;\n",
       "    }\n",
       "</style>\n",
       "<table border=\"1\" class=\"dataframe\">\n",
       "  <thead>\n",
       "    <tr style=\"text-align: right;\">\n",
       "      <th></th>\n",
       "      <th>customerID</th>\n",
       "      <th>gender</th>\n",
       "      <th>SeniorCitizen</th>\n",
       "      <th>Partner</th>\n",
       "      <th>Dependents</th>\n",
       "    </tr>\n",
       "  </thead>\n",
       "  <tbody>\n",
       "    <tr>\n",
       "      <th>0</th>\n",
       "      <td>7590-VHVEG</td>\n",
       "      <td>Female</td>\n",
       "      <td>0</td>\n",
       "      <td>Yes</td>\n",
       "      <td>No</td>\n",
       "    </tr>\n",
       "    <tr>\n",
       "      <th>1</th>\n",
       "      <td>5575-GNVDE</td>\n",
       "      <td>Male</td>\n",
       "      <td>0</td>\n",
       "      <td>No</td>\n",
       "      <td>No</td>\n",
       "    </tr>\n",
       "    <tr>\n",
       "      <th>2</th>\n",
       "      <td>3668-QPYBK</td>\n",
       "      <td>Male</td>\n",
       "      <td>0</td>\n",
       "      <td>No</td>\n",
       "      <td>No</td>\n",
       "    </tr>\n",
       "    <tr>\n",
       "      <th>3</th>\n",
       "      <td>7795-CFOCW</td>\n",
       "      <td>Male</td>\n",
       "      <td>0</td>\n",
       "      <td>No</td>\n",
       "      <td>No</td>\n",
       "    </tr>\n",
       "    <tr>\n",
       "      <th>4</th>\n",
       "      <td>9237-HQITU</td>\n",
       "      <td>Female</td>\n",
       "      <td>0</td>\n",
       "      <td>No</td>\n",
       "      <td>No</td>\n",
       "    </tr>\n",
       "  </tbody>\n",
       "</table>\n",
       "</div>"
      ],
      "text/plain": [
       "   customerID  gender  SeniorCitizen Partner Dependents\n",
       "0  7590-VHVEG  Female              0     Yes         No\n",
       "1  5575-GNVDE    Male              0      No         No\n",
       "2  3668-QPYBK    Male              0      No         No\n",
       "3  7795-CFOCW    Male              0      No         No\n",
       "4  9237-HQITU  Female              0      No         No"
      ]
     },
     "metadata": {},
     "output_type": "display_data"
    },
    {
     "name": "stdout",
     "output_type": "stream",
     "text": [
      "<class 'pandas.core.frame.DataFrame'>\n",
      "RangeIndex: 7043 entries, 0 to 7042\n",
      "Data columns (total 5 columns):\n",
      " #   Column         Non-Null Count  Dtype \n",
      "---  ------         --------------  ----- \n",
      " 0   customerID     7043 non-null   object\n",
      " 1   gender         7043 non-null   object\n",
      " 2   SeniorCitizen  7043 non-null   int64 \n",
      " 3   Partner        7043 non-null   object\n",
      " 4   Dependents     7043 non-null   object\n",
      "dtypes: int64(1), object(4)\n",
      "memory usage: 275.2+ KB\n"
     ]
    },
    {
     "data": {
      "text/plain": [
       "None"
      ]
     },
     "metadata": {},
     "output_type": "display_data"
    },
    {
     "data": {
      "text/html": [
       "<div>\n",
       "<style scoped>\n",
       "    .dataframe tbody tr th:only-of-type {\n",
       "        vertical-align: middle;\n",
       "    }\n",
       "\n",
       "    .dataframe tbody tr th {\n",
       "        vertical-align: top;\n",
       "    }\n",
       "\n",
       "    .dataframe thead th {\n",
       "        text-align: right;\n",
       "    }\n",
       "</style>\n",
       "<table border=\"1\" class=\"dataframe\">\n",
       "  <thead>\n",
       "    <tr style=\"text-align: right;\">\n",
       "      <th></th>\n",
       "      <th>SeniorCitizen</th>\n",
       "    </tr>\n",
       "  </thead>\n",
       "  <tbody>\n",
       "    <tr>\n",
       "      <th>count</th>\n",
       "      <td>7043.000000</td>\n",
       "    </tr>\n",
       "    <tr>\n",
       "      <th>mean</th>\n",
       "      <td>0.162147</td>\n",
       "    </tr>\n",
       "    <tr>\n",
       "      <th>std</th>\n",
       "      <td>0.368612</td>\n",
       "    </tr>\n",
       "    <tr>\n",
       "      <th>min</th>\n",
       "      <td>0.000000</td>\n",
       "    </tr>\n",
       "    <tr>\n",
       "      <th>25%</th>\n",
       "      <td>0.000000</td>\n",
       "    </tr>\n",
       "    <tr>\n",
       "      <th>50%</th>\n",
       "      <td>0.000000</td>\n",
       "    </tr>\n",
       "    <tr>\n",
       "      <th>75%</th>\n",
       "      <td>0.000000</td>\n",
       "    </tr>\n",
       "    <tr>\n",
       "      <th>max</th>\n",
       "      <td>1.000000</td>\n",
       "    </tr>\n",
       "  </tbody>\n",
       "</table>\n",
       "</div>"
      ],
      "text/plain": [
       "       SeniorCitizen\n",
       "count    7043.000000\n",
       "mean        0.162147\n",
       "std         0.368612\n",
       "min         0.000000\n",
       "25%         0.000000\n",
       "50%         0.000000\n",
       "75%         0.000000\n",
       "max         1.000000"
      ]
     },
     "metadata": {},
     "output_type": "display_data"
    },
    {
     "name": "stdout",
     "output_type": "stream",
     "text": [
      "\n",
      "\n"
     ]
    },
    {
     "data": {
      "text/html": [
       "<div>\n",
       "<style scoped>\n",
       "    .dataframe tbody tr th:only-of-type {\n",
       "        vertical-align: middle;\n",
       "    }\n",
       "\n",
       "    .dataframe tbody tr th {\n",
       "        vertical-align: top;\n",
       "    }\n",
       "\n",
       "    .dataframe thead th {\n",
       "        text-align: right;\n",
       "    }\n",
       "</style>\n",
       "<table border=\"1\" class=\"dataframe\">\n",
       "  <thead>\n",
       "    <tr style=\"text-align: right;\">\n",
       "      <th></th>\n",
       "      <th>customerID</th>\n",
       "      <th>MultipleLines</th>\n",
       "    </tr>\n",
       "  </thead>\n",
       "  <tbody>\n",
       "    <tr>\n",
       "      <th>0</th>\n",
       "      <td>5575-GNVDE</td>\n",
       "      <td>No</td>\n",
       "    </tr>\n",
       "    <tr>\n",
       "      <th>1</th>\n",
       "      <td>3668-QPYBK</td>\n",
       "      <td>No</td>\n",
       "    </tr>\n",
       "    <tr>\n",
       "      <th>2</th>\n",
       "      <td>9237-HQITU</td>\n",
       "      <td>No</td>\n",
       "    </tr>\n",
       "    <tr>\n",
       "      <th>3</th>\n",
       "      <td>9305-CDSKC</td>\n",
       "      <td>Yes</td>\n",
       "    </tr>\n",
       "    <tr>\n",
       "      <th>4</th>\n",
       "      <td>1452-KIOVK</td>\n",
       "      <td>Yes</td>\n",
       "    </tr>\n",
       "  </tbody>\n",
       "</table>\n",
       "</div>"
      ],
      "text/plain": [
       "   customerID MultipleLines\n",
       "0  5575-GNVDE            No\n",
       "1  3668-QPYBK            No\n",
       "2  9237-HQITU            No\n",
       "3  9305-CDSKC           Yes\n",
       "4  1452-KIOVK           Yes"
      ]
     },
     "metadata": {},
     "output_type": "display_data"
    },
    {
     "name": "stdout",
     "output_type": "stream",
     "text": [
      "<class 'pandas.core.frame.DataFrame'>\n",
      "RangeIndex: 6361 entries, 0 to 6360\n",
      "Data columns (total 2 columns):\n",
      " #   Column         Non-Null Count  Dtype \n",
      "---  ------         --------------  ----- \n",
      " 0   customerID     6361 non-null   object\n",
      " 1   MultipleLines  6361 non-null   object\n",
      "dtypes: object(2)\n",
      "memory usage: 99.5+ KB\n"
     ]
    },
    {
     "data": {
      "text/plain": [
       "None"
      ]
     },
     "metadata": {},
     "output_type": "display_data"
    },
    {
     "data": {
      "text/html": [
       "<div>\n",
       "<style scoped>\n",
       "    .dataframe tbody tr th:only-of-type {\n",
       "        vertical-align: middle;\n",
       "    }\n",
       "\n",
       "    .dataframe tbody tr th {\n",
       "        vertical-align: top;\n",
       "    }\n",
       "\n",
       "    .dataframe thead th {\n",
       "        text-align: right;\n",
       "    }\n",
       "</style>\n",
       "<table border=\"1\" class=\"dataframe\">\n",
       "  <thead>\n",
       "    <tr style=\"text-align: right;\">\n",
       "      <th></th>\n",
       "      <th>customerID</th>\n",
       "      <th>MultipleLines</th>\n",
       "    </tr>\n",
       "  </thead>\n",
       "  <tbody>\n",
       "    <tr>\n",
       "      <th>count</th>\n",
       "      <td>6361</td>\n",
       "      <td>6361</td>\n",
       "    </tr>\n",
       "    <tr>\n",
       "      <th>unique</th>\n",
       "      <td>6361</td>\n",
       "      <td>2</td>\n",
       "    </tr>\n",
       "    <tr>\n",
       "      <th>top</th>\n",
       "      <td>5575-GNVDE</td>\n",
       "      <td>No</td>\n",
       "    </tr>\n",
       "    <tr>\n",
       "      <th>freq</th>\n",
       "      <td>1</td>\n",
       "      <td>3390</td>\n",
       "    </tr>\n",
       "  </tbody>\n",
       "</table>\n",
       "</div>"
      ],
      "text/plain": [
       "        customerID MultipleLines\n",
       "count         6361          6361\n",
       "unique        6361             2\n",
       "top     5575-GNVDE            No\n",
       "freq             1          3390"
      ]
     },
     "metadata": {},
     "output_type": "display_data"
    },
    {
     "name": "stdout",
     "output_type": "stream",
     "text": [
      "\n",
      "\n"
     ]
    }
   ],
   "source": [
    "for i in [df_contract, df_internet, df_personal, df_phone]:\n",
    "  get_data_info(i)"
   ]
  },
  {
   "cell_type": "markdown",
   "metadata": {
    "id": "QDYLzHwKy8UG"
   },
   "source": [
    "**Intermediate conclusion:**\n",
    "* I need to join all four dataframes for analyzing data and building prediction models. By public key - `customerID`;\n",
    "* There are no obvious missing values in all four datasets. I should check them after joining. And also I need to check unique values in all categorical features for implicit duplicates;\n",
    "* Some features have incorrect format. For example, `TotalCharges` in the *df_contract* table (*object* -> *float64*). I need to fix it;\n",
    "* There is no explicit target feature in the given data. It needs to be created."
   ]
  },
  {
   "cell_type": "markdown",
   "metadata": {
    "id": "RU5Q2QNd8kZf"
   },
   "source": [
    "## Data preparation"
   ]
  },
  {
   "cell_type": "markdown",
   "metadata": {
    "id": "PUQAf_ZaBf6_"
   },
   "source": [
    "### Join datasets"
   ]
  },
  {
   "cell_type": "markdown",
   "metadata": {
    "id": "pBkSGYVrB3qN"
   },
   "source": [
    "To process the data, analyze it and build a model, I will need a common dataset consisting of four source tables. Join four given datasets to one by column `customerID`:"
   ]
  },
  {
   "cell_type": "code",
   "execution_count": 7,
   "metadata": {
    "id": "bIS9iEP_DGki"
   },
   "outputs": [],
   "source": [
    "df_list = [df_contract, df_internet, df_personal, df_phone] #list of sourse datasets\n",
    "df = ft.reduce(lambda left, right: pd.merge(left, right, how='outer', on='customerID'), df_list)"
   ]
  },
  {
   "cell_type": "markdown",
   "metadata": {
    "id": "UMgTCYIhBfEE"
   },
   "source": [
    "Checking the shape of resulting dataframe:"
   ]
  },
  {
   "cell_type": "code",
   "execution_count": 8,
   "metadata": {
    "colab": {
     "base_uri": "https://localhost:8080/"
    },
    "id": "p8_tU6WP6-1q",
    "outputId": "bc2e0979-c371-4c7c-e8ec-8573f0f64e17"
   },
   "outputs": [
    {
     "data": {
      "text/plain": [
       "(7043, 20)"
      ]
     },
     "execution_count": 8,
     "metadata": {},
     "output_type": "execute_result"
    }
   ],
   "source": [
    "df.shape"
   ]
  },
  {
   "cell_type": "markdown",
   "metadata": {
    "id": "YwHiClew6-C3"
   },
   "source": [
    "It looks correct."
   ]
  },
  {
   "cell_type": "markdown",
   "metadata": {
    "id": "OUGVgpMT7mFR"
   },
   "source": [
    "### Data preprocessing"
   ]
  },
  {
   "cell_type": "markdown",
   "metadata": {
    "id": "O1MwW-pr7rES"
   },
   "source": [
    "I'm checking again which types of features should be changed:"
   ]
  },
  {
   "cell_type": "code",
   "execution_count": 9,
   "metadata": {
    "colab": {
     "base_uri": "https://localhost:8080/"
    },
    "id": "DzSzoeiQ74tL",
    "outputId": "53cb1ac2-6c2a-4ae5-b45c-9732111eecdc",
    "scrolled": true
   },
   "outputs": [
    {
     "name": "stdout",
     "output_type": "stream",
     "text": [
      "<class 'pandas.core.frame.DataFrame'>\n",
      "RangeIndex: 7043 entries, 0 to 7042\n",
      "Data columns (total 20 columns):\n",
      " #   Column            Non-Null Count  Dtype  \n",
      "---  ------            --------------  -----  \n",
      " 0   customerID        7043 non-null   object \n",
      " 1   BeginDate         7043 non-null   object \n",
      " 2   EndDate           7043 non-null   object \n",
      " 3   Type              7043 non-null   object \n",
      " 4   PaperlessBilling  7043 non-null   object \n",
      " 5   PaymentMethod     7043 non-null   object \n",
      " 6   MonthlyCharges    7043 non-null   float64\n",
      " 7   TotalCharges      7043 non-null   object \n",
      " 8   InternetService   5517 non-null   object \n",
      " 9   OnlineSecurity    5517 non-null   object \n",
      " 10  OnlineBackup      5517 non-null   object \n",
      " 11  DeviceProtection  5517 non-null   object \n",
      " 12  TechSupport       5517 non-null   object \n",
      " 13  StreamingTV       5517 non-null   object \n",
      " 14  StreamingMovies   5517 non-null   object \n",
      " 15  gender            7043 non-null   object \n",
      " 16  SeniorCitizen     7043 non-null   int64  \n",
      " 17  Partner           7043 non-null   object \n",
      " 18  Dependents        7043 non-null   object \n",
      " 19  MultipleLines     6361 non-null   object \n",
      "dtypes: float64(1), int64(1), object(18)\n",
      "memory usage: 1.1+ MB\n"
     ]
    }
   ],
   "source": [
    "df.info()"
   ]
  },
  {
   "cell_type": "markdown",
   "metadata": {
    "id": "edOw_CmL8Ads"
   },
   "source": [
    "The plan of type casting is:\n",
    "* `BeginDate` and `EndDate` - have to be converted to *datetime* data type;\n",
    "* `TotalCharges` - convert to float type *float64*;\n",
    "* `SeniorCitizen` - convert to *object* type because it is a categorical feature."
   ]
  },
  {
   "cell_type": "code",
   "execution_count": 10,
   "metadata": {
    "id": "gf81IpQpB4UF"
   },
   "outputs": [],
   "source": [
    "df['BeginDate'] = pd.to_datetime(df['BeginDate'])\n",
    "df['EndDate'] = pd.to_datetime(df['EndDate'], errors='ignore')\n",
    "\n",
    "df['TotalCharges'] = pd.to_numeric(df['TotalCharges'], errors='coerce')\n",
    "\n",
    "df['SeniorCitizen'] = df['SeniorCitizen'].apply(str)"
   ]
  },
  {
   "cell_type": "markdown",
   "metadata": {
    "id": "vAupPRV7Fdp4"
   },
   "source": [
    "Checking the types:"
   ]
  },
  {
   "cell_type": "code",
   "execution_count": 11,
   "metadata": {
    "colab": {
     "base_uri": "https://localhost:8080/"
    },
    "id": "Uqd5W9U4768_",
    "outputId": "09ae921c-0da7-4939-a463-eb09ac944483"
   },
   "outputs": [
    {
     "name": "stdout",
     "output_type": "stream",
     "text": [
      "<class 'pandas.core.frame.DataFrame'>\n",
      "RangeIndex: 7043 entries, 0 to 7042\n",
      "Data columns (total 20 columns):\n",
      " #   Column            Non-Null Count  Dtype         \n",
      "---  ------            --------------  -----         \n",
      " 0   customerID        7043 non-null   object        \n",
      " 1   BeginDate         7043 non-null   datetime64[ns]\n",
      " 2   EndDate           7043 non-null   object        \n",
      " 3   Type              7043 non-null   object        \n",
      " 4   PaperlessBilling  7043 non-null   object        \n",
      " 5   PaymentMethod     7043 non-null   object        \n",
      " 6   MonthlyCharges    7043 non-null   float64       \n",
      " 7   TotalCharges      7032 non-null   float64       \n",
      " 8   InternetService   5517 non-null   object        \n",
      " 9   OnlineSecurity    5517 non-null   object        \n",
      " 10  OnlineBackup      5517 non-null   object        \n",
      " 11  DeviceProtection  5517 non-null   object        \n",
      " 12  TechSupport       5517 non-null   object        \n",
      " 13  StreamingTV       5517 non-null   object        \n",
      " 14  StreamingMovies   5517 non-null   object        \n",
      " 15  gender            7043 non-null   object        \n",
      " 16  SeniorCitizen     7043 non-null   object        \n",
      " 17  Partner           7043 non-null   object        \n",
      " 18  Dependents        7043 non-null   object        \n",
      " 19  MultipleLines     6361 non-null   object        \n",
      "dtypes: datetime64[ns](1), float64(2), object(17)\n",
      "memory usage: 1.1+ MB\n"
     ]
    }
   ],
   "source": [
    "df.info()"
   ]
  },
  {
   "cell_type": "markdown",
   "metadata": {
    "id": "7mnQenZ7FlR1"
   },
   "source": [
    "Type conversions happened correctly."
   ]
  },
  {
   "cell_type": "markdown",
   "metadata": {
    "id": "vghf3MlAFtwj"
   },
   "source": [
    "#### Checking missing meaning"
   ]
  },
  {
   "cell_type": "markdown",
   "metadata": {
    "id": "UvM4dIhZF4wB"
   },
   "source": [
    "When joining datasets, visible gaps appeared. Let's print them in descending order:"
   ]
  },
  {
   "cell_type": "code",
   "execution_count": 12,
   "metadata": {
    "colab": {
     "base_uri": "https://localhost:8080/"
    },
    "id": "yPKCsga5F_YN",
    "outputId": "b9ee7f36-d848-42d1-f717-ef999130d687"
   },
   "outputs": [
    {
     "data": {
      "text/plain": [
       "OnlineBackup        1526\n",
       "InternetService     1526\n",
       "StreamingMovies     1526\n",
       "StreamingTV         1526\n",
       "TechSupport         1526\n",
       "DeviceProtection    1526\n",
       "OnlineSecurity      1526\n",
       "MultipleLines        682\n",
       "TotalCharges          11\n",
       "MonthlyCharges         0\n",
       "BeginDate              0\n",
       "dtype: int64"
      ]
     },
     "execution_count": 12,
     "metadata": {},
     "output_type": "execute_result"
    }
   ],
   "source": [
    "df.isna().sum().sort_values(ascending=False).head(11)"
   ]
  },
  {
   "cell_type": "markdown",
   "metadata": {
    "id": "_p5iTewoIo82"
   },
   "source": [
    "`OnlineBackup`, `InternetService`, `StreamingMovies`, `StreamingTV`, `TechSupport`, `DeviceProtection`, and `OnlineSecurity` have a similar big number of gaps.\n",
    "<br>Probably, they appeared because some clients don't use Internet services. I can replace them with just \"No\"."
   ]
  },
  {
   "cell_type": "code",
   "execution_count": 13,
   "metadata": {
    "id": "F3_YZGrZJqAP"
   },
   "outputs": [],
   "source": [
    "list_internet = [\n",
    "    'OnlineBackup', 'InternetService', 'StreamingMovies', 'StreamingTV', \n",
    "    'TechSupport', 'DeviceProtection', 'OnlineSecurity'\n",
    "    ]\n",
    "\n",
    "df.loc[:, list_internet] = df.loc[:, list_internet].fillna('No')"
   ]
  },
  {
   "cell_type": "markdown",
   "metadata": {
    "id": "oc6f3z8ePoSn"
   },
   "source": [
    "The rest of the features with gaps is `MultipleLines` feature: this is probably someone who does not use multichannel communication.\n",
    "And in `TotalCharges` - in the total payment.\n",
    "\n",
    "The first of them I also can replace with \"No\".\n",
    "For the second: should check the value of other features."
   ]
  },
  {
   "cell_type": "code",
   "execution_count": 14,
   "metadata": {
    "id": "l3Sp-GDjLyFo"
   },
   "outputs": [],
   "source": [
    "df['MultipleLines'] = df['MultipleLines'].fillna('No')"
   ]
  },
  {
   "cell_type": "code",
   "execution_count": 15,
   "metadata": {
    "colab": {
     "base_uri": "https://localhost:8080/",
     "height": 649
    },
    "id": "Ozht5K8z2qAK",
    "outputId": "5f7ccdb8-420b-42c7-8864-4e28aec26e58"
   },
   "outputs": [
    {
     "data": {
      "text/html": [
       "<div>\n",
       "<style scoped>\n",
       "    .dataframe tbody tr th:only-of-type {\n",
       "        vertical-align: middle;\n",
       "    }\n",
       "\n",
       "    .dataframe tbody tr th {\n",
       "        vertical-align: top;\n",
       "    }\n",
       "\n",
       "    .dataframe thead th {\n",
       "        text-align: right;\n",
       "    }\n",
       "</style>\n",
       "<table border=\"1\" class=\"dataframe\">\n",
       "  <thead>\n",
       "    <tr style=\"text-align: right;\">\n",
       "      <th></th>\n",
       "      <th>customerID</th>\n",
       "      <th>BeginDate</th>\n",
       "      <th>EndDate</th>\n",
       "      <th>Type</th>\n",
       "      <th>PaperlessBilling</th>\n",
       "      <th>PaymentMethod</th>\n",
       "      <th>MonthlyCharges</th>\n",
       "      <th>TotalCharges</th>\n",
       "      <th>InternetService</th>\n",
       "      <th>OnlineSecurity</th>\n",
       "      <th>OnlineBackup</th>\n",
       "      <th>DeviceProtection</th>\n",
       "      <th>TechSupport</th>\n",
       "      <th>StreamingTV</th>\n",
       "      <th>StreamingMovies</th>\n",
       "      <th>gender</th>\n",
       "      <th>SeniorCitizen</th>\n",
       "      <th>Partner</th>\n",
       "      <th>Dependents</th>\n",
       "      <th>MultipleLines</th>\n",
       "    </tr>\n",
       "  </thead>\n",
       "  <tbody>\n",
       "    <tr>\n",
       "      <th>488</th>\n",
       "      <td>4472-LVYGI</td>\n",
       "      <td>2020-02-01</td>\n",
       "      <td>No</td>\n",
       "      <td>Two year</td>\n",
       "      <td>Yes</td>\n",
       "      <td>Bank transfer (automatic)</td>\n",
       "      <td>52.55</td>\n",
       "      <td>NaN</td>\n",
       "      <td>DSL</td>\n",
       "      <td>Yes</td>\n",
       "      <td>No</td>\n",
       "      <td>Yes</td>\n",
       "      <td>Yes</td>\n",
       "      <td>Yes</td>\n",
       "      <td>No</td>\n",
       "      <td>Female</td>\n",
       "      <td>0</td>\n",
       "      <td>Yes</td>\n",
       "      <td>Yes</td>\n",
       "      <td>No</td>\n",
       "    </tr>\n",
       "    <tr>\n",
       "      <th>753</th>\n",
       "      <td>3115-CZMZD</td>\n",
       "      <td>2020-02-01</td>\n",
       "      <td>No</td>\n",
       "      <td>Two year</td>\n",
       "      <td>No</td>\n",
       "      <td>Mailed check</td>\n",
       "      <td>20.25</td>\n",
       "      <td>NaN</td>\n",
       "      <td>No</td>\n",
       "      <td>No</td>\n",
       "      <td>No</td>\n",
       "      <td>No</td>\n",
       "      <td>No</td>\n",
       "      <td>No</td>\n",
       "      <td>No</td>\n",
       "      <td>Male</td>\n",
       "      <td>0</td>\n",
       "      <td>No</td>\n",
       "      <td>Yes</td>\n",
       "      <td>No</td>\n",
       "    </tr>\n",
       "    <tr>\n",
       "      <th>936</th>\n",
       "      <td>5709-LVOEQ</td>\n",
       "      <td>2020-02-01</td>\n",
       "      <td>No</td>\n",
       "      <td>Two year</td>\n",
       "      <td>No</td>\n",
       "      <td>Mailed check</td>\n",
       "      <td>80.85</td>\n",
       "      <td>NaN</td>\n",
       "      <td>DSL</td>\n",
       "      <td>Yes</td>\n",
       "      <td>Yes</td>\n",
       "      <td>Yes</td>\n",
       "      <td>No</td>\n",
       "      <td>Yes</td>\n",
       "      <td>Yes</td>\n",
       "      <td>Female</td>\n",
       "      <td>0</td>\n",
       "      <td>Yes</td>\n",
       "      <td>Yes</td>\n",
       "      <td>No</td>\n",
       "    </tr>\n",
       "    <tr>\n",
       "      <th>1082</th>\n",
       "      <td>4367-NUYAO</td>\n",
       "      <td>2020-02-01</td>\n",
       "      <td>No</td>\n",
       "      <td>Two year</td>\n",
       "      <td>No</td>\n",
       "      <td>Mailed check</td>\n",
       "      <td>25.75</td>\n",
       "      <td>NaN</td>\n",
       "      <td>No</td>\n",
       "      <td>No</td>\n",
       "      <td>No</td>\n",
       "      <td>No</td>\n",
       "      <td>No</td>\n",
       "      <td>No</td>\n",
       "      <td>No</td>\n",
       "      <td>Male</td>\n",
       "      <td>0</td>\n",
       "      <td>Yes</td>\n",
       "      <td>Yes</td>\n",
       "      <td>Yes</td>\n",
       "    </tr>\n",
       "    <tr>\n",
       "      <th>1340</th>\n",
       "      <td>1371-DWPAZ</td>\n",
       "      <td>2020-02-01</td>\n",
       "      <td>No</td>\n",
       "      <td>Two year</td>\n",
       "      <td>No</td>\n",
       "      <td>Credit card (automatic)</td>\n",
       "      <td>56.05</td>\n",
       "      <td>NaN</td>\n",
       "      <td>DSL</td>\n",
       "      <td>Yes</td>\n",
       "      <td>Yes</td>\n",
       "      <td>Yes</td>\n",
       "      <td>Yes</td>\n",
       "      <td>Yes</td>\n",
       "      <td>No</td>\n",
       "      <td>Female</td>\n",
       "      <td>0</td>\n",
       "      <td>Yes</td>\n",
       "      <td>Yes</td>\n",
       "      <td>No</td>\n",
       "    </tr>\n",
       "    <tr>\n",
       "      <th>3331</th>\n",
       "      <td>7644-OMVMY</td>\n",
       "      <td>2020-02-01</td>\n",
       "      <td>No</td>\n",
       "      <td>Two year</td>\n",
       "      <td>No</td>\n",
       "      <td>Mailed check</td>\n",
       "      <td>19.85</td>\n",
       "      <td>NaN</td>\n",
       "      <td>No</td>\n",
       "      <td>No</td>\n",
       "      <td>No</td>\n",
       "      <td>No</td>\n",
       "      <td>No</td>\n",
       "      <td>No</td>\n",
       "      <td>No</td>\n",
       "      <td>Male</td>\n",
       "      <td>0</td>\n",
       "      <td>Yes</td>\n",
       "      <td>Yes</td>\n",
       "      <td>No</td>\n",
       "    </tr>\n",
       "    <tr>\n",
       "      <th>3826</th>\n",
       "      <td>3213-VVOLG</td>\n",
       "      <td>2020-02-01</td>\n",
       "      <td>No</td>\n",
       "      <td>Two year</td>\n",
       "      <td>No</td>\n",
       "      <td>Mailed check</td>\n",
       "      <td>25.35</td>\n",
       "      <td>NaN</td>\n",
       "      <td>No</td>\n",
       "      <td>No</td>\n",
       "      <td>No</td>\n",
       "      <td>No</td>\n",
       "      <td>No</td>\n",
       "      <td>No</td>\n",
       "      <td>No</td>\n",
       "      <td>Male</td>\n",
       "      <td>0</td>\n",
       "      <td>Yes</td>\n",
       "      <td>Yes</td>\n",
       "      <td>Yes</td>\n",
       "    </tr>\n",
       "    <tr>\n",
       "      <th>4380</th>\n",
       "      <td>2520-SGTTA</td>\n",
       "      <td>2020-02-01</td>\n",
       "      <td>No</td>\n",
       "      <td>Two year</td>\n",
       "      <td>No</td>\n",
       "      <td>Mailed check</td>\n",
       "      <td>20.00</td>\n",
       "      <td>NaN</td>\n",
       "      <td>No</td>\n",
       "      <td>No</td>\n",
       "      <td>No</td>\n",
       "      <td>No</td>\n",
       "      <td>No</td>\n",
       "      <td>No</td>\n",
       "      <td>No</td>\n",
       "      <td>Female</td>\n",
       "      <td>0</td>\n",
       "      <td>Yes</td>\n",
       "      <td>Yes</td>\n",
       "      <td>No</td>\n",
       "    </tr>\n",
       "    <tr>\n",
       "      <th>5218</th>\n",
       "      <td>2923-ARZLG</td>\n",
       "      <td>2020-02-01</td>\n",
       "      <td>No</td>\n",
       "      <td>One year</td>\n",
       "      <td>Yes</td>\n",
       "      <td>Mailed check</td>\n",
       "      <td>19.70</td>\n",
       "      <td>NaN</td>\n",
       "      <td>No</td>\n",
       "      <td>No</td>\n",
       "      <td>No</td>\n",
       "      <td>No</td>\n",
       "      <td>No</td>\n",
       "      <td>No</td>\n",
       "      <td>No</td>\n",
       "      <td>Male</td>\n",
       "      <td>0</td>\n",
       "      <td>Yes</td>\n",
       "      <td>Yes</td>\n",
       "      <td>No</td>\n",
       "    </tr>\n",
       "    <tr>\n",
       "      <th>6670</th>\n",
       "      <td>4075-WKNIU</td>\n",
       "      <td>2020-02-01</td>\n",
       "      <td>No</td>\n",
       "      <td>Two year</td>\n",
       "      <td>No</td>\n",
       "      <td>Mailed check</td>\n",
       "      <td>73.35</td>\n",
       "      <td>NaN</td>\n",
       "      <td>DSL</td>\n",
       "      <td>No</td>\n",
       "      <td>Yes</td>\n",
       "      <td>Yes</td>\n",
       "      <td>Yes</td>\n",
       "      <td>Yes</td>\n",
       "      <td>No</td>\n",
       "      <td>Female</td>\n",
       "      <td>0</td>\n",
       "      <td>Yes</td>\n",
       "      <td>Yes</td>\n",
       "      <td>Yes</td>\n",
       "    </tr>\n",
       "    <tr>\n",
       "      <th>6754</th>\n",
       "      <td>2775-SEFEE</td>\n",
       "      <td>2020-02-01</td>\n",
       "      <td>No</td>\n",
       "      <td>Two year</td>\n",
       "      <td>Yes</td>\n",
       "      <td>Bank transfer (automatic)</td>\n",
       "      <td>61.90</td>\n",
       "      <td>NaN</td>\n",
       "      <td>DSL</td>\n",
       "      <td>Yes</td>\n",
       "      <td>Yes</td>\n",
       "      <td>No</td>\n",
       "      <td>Yes</td>\n",
       "      <td>No</td>\n",
       "      <td>No</td>\n",
       "      <td>Male</td>\n",
       "      <td>0</td>\n",
       "      <td>No</td>\n",
       "      <td>Yes</td>\n",
       "      <td>Yes</td>\n",
       "    </tr>\n",
       "  </tbody>\n",
       "</table>\n",
       "</div>"
      ],
      "text/plain": [
       "      customerID  BeginDate EndDate      Type PaperlessBilling  \\\n",
       "488   4472-LVYGI 2020-02-01      No  Two year              Yes   \n",
       "753   3115-CZMZD 2020-02-01      No  Two year               No   \n",
       "936   5709-LVOEQ 2020-02-01      No  Two year               No   \n",
       "1082  4367-NUYAO 2020-02-01      No  Two year               No   \n",
       "1340  1371-DWPAZ 2020-02-01      No  Two year               No   \n",
       "3331  7644-OMVMY 2020-02-01      No  Two year               No   \n",
       "3826  3213-VVOLG 2020-02-01      No  Two year               No   \n",
       "4380  2520-SGTTA 2020-02-01      No  Two year               No   \n",
       "5218  2923-ARZLG 2020-02-01      No  One year              Yes   \n",
       "6670  4075-WKNIU 2020-02-01      No  Two year               No   \n",
       "6754  2775-SEFEE 2020-02-01      No  Two year              Yes   \n",
       "\n",
       "                  PaymentMethod  MonthlyCharges  TotalCharges InternetService  \\\n",
       "488   Bank transfer (automatic)           52.55           NaN             DSL   \n",
       "753                Mailed check           20.25           NaN              No   \n",
       "936                Mailed check           80.85           NaN             DSL   \n",
       "1082               Mailed check           25.75           NaN              No   \n",
       "1340    Credit card (automatic)           56.05           NaN             DSL   \n",
       "3331               Mailed check           19.85           NaN              No   \n",
       "3826               Mailed check           25.35           NaN              No   \n",
       "4380               Mailed check           20.00           NaN              No   \n",
       "5218               Mailed check           19.70           NaN              No   \n",
       "6670               Mailed check           73.35           NaN             DSL   \n",
       "6754  Bank transfer (automatic)           61.90           NaN             DSL   \n",
       "\n",
       "     OnlineSecurity OnlineBackup DeviceProtection TechSupport StreamingTV  \\\n",
       "488             Yes           No              Yes         Yes         Yes   \n",
       "753              No           No               No          No          No   \n",
       "936             Yes          Yes              Yes          No         Yes   \n",
       "1082             No           No               No          No          No   \n",
       "1340            Yes          Yes              Yes         Yes         Yes   \n",
       "3331             No           No               No          No          No   \n",
       "3826             No           No               No          No          No   \n",
       "4380             No           No               No          No          No   \n",
       "5218             No           No               No          No          No   \n",
       "6670             No          Yes              Yes         Yes         Yes   \n",
       "6754            Yes          Yes               No         Yes          No   \n",
       "\n",
       "     StreamingMovies  gender SeniorCitizen Partner Dependents MultipleLines  \n",
       "488               No  Female             0     Yes        Yes            No  \n",
       "753               No    Male             0      No        Yes            No  \n",
       "936              Yes  Female             0     Yes        Yes            No  \n",
       "1082              No    Male             0     Yes        Yes           Yes  \n",
       "1340              No  Female             0     Yes        Yes            No  \n",
       "3331              No    Male             0     Yes        Yes            No  \n",
       "3826              No    Male             0     Yes        Yes           Yes  \n",
       "4380              No  Female             0     Yes        Yes            No  \n",
       "5218              No    Male             0     Yes        Yes            No  \n",
       "6670              No  Female             0     Yes        Yes           Yes  \n",
       "6754              No    Male             0      No        Yes           Yes  "
      ]
     },
     "execution_count": 15,
     "metadata": {},
     "output_type": "execute_result"
    }
   ],
   "source": [
    "df[df['TotalCharges'].isna() == True]"
   ]
  },
  {
   "cell_type": "markdown",
   "metadata": {
    "id": "4Rex9CUO25j7"
   },
   "source": [
    "Actually, objects with missing values in `TotalCharges` are new clients whose connection date matches the data collection date. They haven't had any payment yet.\n",
    "<br>This type of object is less than 1% of full data, their duration of using the company's services is 0 days. I can just delete these objects."
   ]
  },
  {
   "cell_type": "code",
   "execution_count": 16,
   "metadata": {
    "id": "hHe5ilsD4fUw"
   },
   "outputs": [],
   "source": [
    "df = df.dropna(subset=['TotalCharges']).reset_index(drop=True)"
   ]
  },
  {
   "cell_type": "markdown",
   "metadata": {
    "id": "-49w3IFR570n"
   },
   "source": [
    "Checking if are there any gaps now:"
   ]
  },
  {
   "cell_type": "code",
   "execution_count": 17,
   "metadata": {
    "colab": {
     "base_uri": "https://localhost:8080/"
    },
    "id": "ov47Bj-D6Czw",
    "outputId": "aa083dc4-6ec3-4d0e-e83e-a381b788b690"
   },
   "outputs": [
    {
     "data": {
      "text/plain": [
       "customerID       0\n",
       "BeginDate        0\n",
       "Dependents       0\n",
       "Partner          0\n",
       "SeniorCitizen    0\n",
       "dtype: int64"
      ]
     },
     "execution_count": 17,
     "metadata": {},
     "output_type": "execute_result"
    }
   ],
   "source": [
    "df.isna().sum().sort_values(ascending=False).head()"
   ]
  },
  {
   "cell_type": "markdown",
   "metadata": {
    "id": "vmbdCFfK7dop"
   },
   "source": [
    "There are not any gaps. I can start the next step."
   ]
  },
  {
   "cell_type": "markdown",
   "metadata": {
    "id": "pEvx9rbN76he"
   },
   "source": [
    "#### Checking for duplicates"
   ]
  },
  {
   "cell_type": "markdown",
   "metadata": {
    "id": "y-wIxwtwAo4e"
   },
   "source": [
    "First, let's check the explicit duplicates."
   ]
  },
  {
   "cell_type": "code",
   "execution_count": 18,
   "metadata": {
    "colab": {
     "base_uri": "https://localhost:8080/"
    },
    "id": "Sn5-1YbcAuFj",
    "outputId": "07e91dbd-d79b-478b-a27e-6974067e0b30"
   },
   "outputs": [
    {
     "data": {
      "text/plain": [
       "0"
      ]
     },
     "execution_count": 18,
     "metadata": {},
     "output_type": "execute_result"
    }
   ],
   "source": [
    "df.duplicated().sum()"
   ]
  },
  {
   "cell_type": "markdown",
   "metadata": {
    "id": "Z2M81MbnAxsu"
   },
   "source": [
    "There are no explicit duplicates.\n",
    "\n",
    "Now, let's check implicit duplicates. For this, I'm going to check the unique meaning of categorical features:"
   ]
  },
  {
   "cell_type": "code",
   "execution_count": 19,
   "metadata": {
    "colab": {
     "base_uri": "https://localhost:8080/"
    },
    "id": "6EHZd_3cA7RP",
    "outputId": "10ac463a-f89c-4c00-a2a0-2b4e04754de9"
   },
   "outputs": [
    {
     "name": "stdout",
     "output_type": "stream",
     "text": [
      "['7590-VHVEG' '5575-GNVDE' '3668-QPYBK' ... '4801-JZAZL' '8361-LTMKD'\n",
      " '3186-AJIEK']\n",
      "['No' '2019-12-01 00:00:00' '2019-11-01 00:00:00' '2019-10-01 00:00:00'\n",
      " '2020-01-01 00:00:00']\n",
      "['Month-to-month' 'One year' 'Two year']\n",
      "['Yes' 'No']\n",
      "['Electronic check' 'Mailed check' 'Bank transfer (automatic)'\n",
      " 'Credit card (automatic)']\n",
      "['DSL' 'Fiber optic' 'No']\n",
      "['No' 'Yes']\n",
      "['Yes' 'No']\n",
      "['No' 'Yes']\n",
      "['No' 'Yes']\n",
      "['No' 'Yes']\n",
      "['No' 'Yes']\n",
      "['Female' 'Male']\n",
      "['0' '1']\n",
      "['Yes' 'No']\n",
      "['No' 'Yes']\n",
      "['No' 'Yes']\n"
     ]
    }
   ],
   "source": [
    "object_categories = df.columns[df.dtypes==object]\n",
    "\n",
    "for i in object_categories:\n",
    "  print(df[i].unique())"
   ]
  },
  {
   "cell_type": "markdown",
   "metadata": {
    "id": "Pb-pKgSzH852"
   },
   "source": [
    "There are no implicit duplicates either."
   ]
  },
  {
   "cell_type": "markdown",
   "metadata": {
    "id": "VktAE3anKvhO"
   },
   "source": [
    "#### Checking for outliers"
   ]
  },
  {
   "cell_type": "markdown",
   "metadata": {
    "id": "H1MnPcG9KnMO"
   },
   "source": [
    "Outliers can interfere with conducting analyses correctly and building prediction models. Let's check if are they here with charts."
   ]
  },
  {
   "cell_type": "code",
   "execution_count": 20,
   "metadata": {
    "id": "cd3Mv48FLg4t"
   },
   "outputs": [],
   "source": [
    "def make_hist(col):\n",
    "  plt.figure(figsize=(12, 5))\n",
    "  plt.hist(df[col], bins=100)\n",
    "  plt.title(col)\n",
    "  plt.show();"
   ]
  },
  {
   "cell_type": "code",
   "execution_count": 21,
   "metadata": {
    "colab": {
     "base_uri": "https://localhost:8080/",
     "height": 655
    },
    "id": "duuURkcxLvM8",
    "outputId": "1d77f3b1-9f6f-4e27-c958-d3b9c9a759f9"
   },
   "outputs": [
    {
     "data": {
      "image/png": "[encoded data removed]",
      "text/plain": [
       "<Figure size 1200x500 with 1 Axes>"
      ]
     },
     "metadata": {},
     "output_type": "display_data"
    },
    {
     "data": {
      "image/png": "[encoded data removed]",
      "text/plain": [
       "<Figure size 1200x500 with 1 Axes>"
      ]
     },
     "metadata": {},
     "output_type": "display_data"
    }
   ],
   "source": [
    "float_features = df.columns[df.dtypes==float]\n",
    "\n",
    "for i in float_features:\n",
    "  make_hist(i)"
   ]
  },
  {
   "cell_type": "markdown",
   "metadata": {
    "id": "a6eNYuJ4Nwxu"
   },
   "source": [
    "The feature `MonthlyCharges`. \n",
    "<br>In the chart, the peaks appear in numbers that are multiple of five, starting from 20. The most popular value is 20, it's basically the most popular tariff among clients.\n",
    "<br>There is not any suspicious values. I can make the conclusion that there are no outliers.\n",
    "\n",
    "The feature `TotalCharges`. \n",
    "<br>There are also no observed signs of outliers. There is one pronounced peak in the value near zero, but not zero. Perhaps, this is the total charge of clients who choose a tariff with 20 currency units per month. \n",
    "<br>All values looks normal, too."
   ]
  },
  {
   "cell_type": "markdown",
   "metadata": {
    "id": "yex8xmeOOWRD"
   },
   "source": [
    "There is one more feature in the data set with a numeric data type - `SeniorCitizen`. But, in fact, it is categorical.\n",
    "<br>Just in case, let's check its exceptional values:"
   ]
  },
  {
   "cell_type": "code",
   "execution_count": 22,
   "metadata": {
    "colab": {
     "base_uri": "https://localhost:8080/"
    },
    "id": "AZ6NKu4hOY2U",
    "outputId": "3eed178d-a0c9-4783-8fe1-2e807b635b77"
   },
   "outputs": [
    {
     "data": {
      "text/plain": [
       "array(['0', '1'], dtype=object)"
      ]
     },
     "execution_count": 22,
     "metadata": {},
     "output_type": "execute_result"
    }
   ],
   "source": [
    "df['SeniorCitizen'].unique()"
   ]
  },
  {
   "cell_type": "markdown",
   "metadata": {
    "id": "MfQlDAVPP8ZK"
   },
   "source": [
    "It also contains the expected set of values."
   ]
  },
  {
   "cell_type": "markdown",
   "metadata": {
    "id": "SDOkgZBdQHKi"
   },
   "source": [
    "### Creating additional features"
   ]
  },
  {
   "cell_type": "markdown",
   "metadata": {
    "id": "fo7ObrETQQ_g"
   },
   "source": [
    "The cancelation date is not informative for current clients. I suggest creating a new feature based on it - the duration of the connection. This will be the difference between the date of connection and the date of data collection (02/01/2020) and for former clients - the date of termination of the contract.\n",
    "\n",
    "Let's form a new attribute `Duration`:"
   ]
  },
  {
   "cell_type": "code",
   "execution_count": 23,
   "metadata": {
    "colab": {
     "base_uri": "https://localhost:8080/",
     "height": 363
    },
    "id": "vujj0-i0TY8W",
    "outputId": "0e8a70d3-0d1f-4f3e-c9b6-c9e10acd5ef9"
   },
   "outputs": [
    {
     "data": {
      "text/html": [
       "<div>\n",
       "<style scoped>\n",
       "    .dataframe tbody tr th:only-of-type {\n",
       "        vertical-align: middle;\n",
       "    }\n",
       "\n",
       "    .dataframe tbody tr th {\n",
       "        vertical-align: top;\n",
       "    }\n",
       "\n",
       "    .dataframe thead th {\n",
       "        text-align: right;\n",
       "    }\n",
       "</style>\n",
       "<table border=\"1\" class=\"dataframe\">\n",
       "  <thead>\n",
       "    <tr style=\"text-align: right;\">\n",
       "      <th></th>\n",
       "      <th>BeginDate</th>\n",
       "      <th>EndDate</th>\n",
       "      <th>Duration</th>\n",
       "    </tr>\n",
       "  </thead>\n",
       "  <tbody>\n",
       "    <tr>\n",
       "      <th>0</th>\n",
       "      <td>2020-01-01</td>\n",
       "      <td>2020-02-01</td>\n",
       "      <td>31</td>\n",
       "    </tr>\n",
       "    <tr>\n",
       "      <th>1</th>\n",
       "      <td>2017-04-01</td>\n",
       "      <td>2020-02-01</td>\n",
       "      <td>1036</td>\n",
       "    </tr>\n",
       "    <tr>\n",
       "      <th>2</th>\n",
       "      <td>2019-10-01</td>\n",
       "      <td>2019-12-01</td>\n",
       "      <td>61</td>\n",
       "    </tr>\n",
       "    <tr>\n",
       "      <th>3</th>\n",
       "      <td>2016-05-01</td>\n",
       "      <td>2020-02-01</td>\n",
       "      <td>1371</td>\n",
       "    </tr>\n",
       "    <tr>\n",
       "      <th>4</th>\n",
       "      <td>2019-09-01</td>\n",
       "      <td>2019-11-01</td>\n",
       "      <td>61</td>\n",
       "    </tr>\n",
       "    <tr>\n",
       "      <th>5</th>\n",
       "      <td>2019-03-01</td>\n",
       "      <td>2019-11-01</td>\n",
       "      <td>245</td>\n",
       "    </tr>\n",
       "    <tr>\n",
       "      <th>6</th>\n",
       "      <td>2018-04-01</td>\n",
       "      <td>2020-02-01</td>\n",
       "      <td>671</td>\n",
       "    </tr>\n",
       "    <tr>\n",
       "      <th>7</th>\n",
       "      <td>2019-04-01</td>\n",
       "      <td>2020-02-01</td>\n",
       "      <td>306</td>\n",
       "    </tr>\n",
       "    <tr>\n",
       "      <th>8</th>\n",
       "      <td>2017-07-01</td>\n",
       "      <td>2019-11-01</td>\n",
       "      <td>853</td>\n",
       "    </tr>\n",
       "    <tr>\n",
       "      <th>9</th>\n",
       "      <td>2014-12-01</td>\n",
       "      <td>2020-02-01</td>\n",
       "      <td>1888</td>\n",
       "    </tr>\n",
       "  </tbody>\n",
       "</table>\n",
       "</div>"
      ],
      "text/plain": [
       "   BeginDate    EndDate  Duration\n",
       "0 2020-01-01 2020-02-01        31\n",
       "1 2017-04-01 2020-02-01      1036\n",
       "2 2019-10-01 2019-12-01        61\n",
       "3 2016-05-01 2020-02-01      1371\n",
       "4 2019-09-01 2019-11-01        61\n",
       "5 2019-03-01 2019-11-01       245\n",
       "6 2018-04-01 2020-02-01       671\n",
       "7 2019-04-01 2020-02-01       306\n",
       "8 2017-07-01 2019-11-01       853\n",
       "9 2014-12-01 2020-02-01      1888"
      ]
     },
     "execution_count": 23,
     "metadata": {},
     "output_type": "execute_result"
    }
   ],
   "source": [
    "df['EndDate'] = pd.to_datetime(df['EndDate'].replace('No', '2020-02-01 00:00:00')) #let's substitute the gaps with the date of data collection\n",
    "df['Duration'] = (df['EndDate'] - df['BeginDate']).dt.days\n",
    "\n",
    "df['Duration'] = pd.to_numeric(df['Duration']) #for convenience, let's convert this feature into *float*\n",
    "\n",
    "df[['BeginDate', 'EndDate', 'Duration']].head(10) #checking if the number of days is counted correctly"
   ]
  },
  {
   "cell_type": "markdown",
   "metadata": {
    "id": "4XHEQhTZsy6U"
   },
   "source": [
    "The feature `Duration` was created correctly."
   ]
  },
  {
   "cell_type": "markdown",
   "metadata": {
    "id": "KSTuc3nek9zS"
   },
   "source": [
    "### Creating of the target feature"
   ]
  },
  {
   "cell_type": "markdown",
   "metadata": {
    "id": "0JZNhyKllRDD"
   },
   "source": [
    "The goal of the project is to predict customer churn. Accordingly, the feature `EndDate` can be taken as the target feature, as a binary classification.\n",
    "<br>If it is not equal to the data collection date February 1, 2020, its value becomes 1. If it is equal - 0.\n",
    "\n",
    "Creating the target feature `ExClients`:"
   ]
  },
  {
   "cell_type": "code",
   "execution_count": 24,
   "metadata": {
    "colab": {
     "base_uri": "https://localhost:8080/",
     "height": 363
    },
    "id": "4r3FolrGlQVm",
    "outputId": "295436d6-d1cb-4429-f066-aef436bd8e2a"
   },
   "outputs": [
    {
     "data": {
      "text/html": [
       "<div>\n",
       "<style scoped>\n",
       "    .dataframe tbody tr th:only-of-type {\n",
       "        vertical-align: middle;\n",
       "    }\n",
       "\n",
       "    .dataframe tbody tr th {\n",
       "        vertical-align: top;\n",
       "    }\n",
       "\n",
       "    .dataframe thead th {\n",
       "        text-align: right;\n",
       "    }\n",
       "</style>\n",
       "<table border=\"1\" class=\"dataframe\">\n",
       "  <thead>\n",
       "    <tr style=\"text-align: right;\">\n",
       "      <th></th>\n",
       "      <th>EndDate</th>\n",
       "      <th>ExClients</th>\n",
       "    </tr>\n",
       "  </thead>\n",
       "  <tbody>\n",
       "    <tr>\n",
       "      <th>0</th>\n",
       "      <td>2020-02-01</td>\n",
       "      <td>0</td>\n",
       "    </tr>\n",
       "    <tr>\n",
       "      <th>1</th>\n",
       "      <td>2020-02-01</td>\n",
       "      <td>0</td>\n",
       "    </tr>\n",
       "    <tr>\n",
       "      <th>2</th>\n",
       "      <td>2019-12-01</td>\n",
       "      <td>1</td>\n",
       "    </tr>\n",
       "    <tr>\n",
       "      <th>3</th>\n",
       "      <td>2020-02-01</td>\n",
       "      <td>0</td>\n",
       "    </tr>\n",
       "    <tr>\n",
       "      <th>4</th>\n",
       "      <td>2019-11-01</td>\n",
       "      <td>1</td>\n",
       "    </tr>\n",
       "    <tr>\n",
       "      <th>5</th>\n",
       "      <td>2019-11-01</td>\n",
       "      <td>1</td>\n",
       "    </tr>\n",
       "    <tr>\n",
       "      <th>6</th>\n",
       "      <td>2020-02-01</td>\n",
       "      <td>0</td>\n",
       "    </tr>\n",
       "    <tr>\n",
       "      <th>7</th>\n",
       "      <td>2020-02-01</td>\n",
       "      <td>0</td>\n",
       "    </tr>\n",
       "    <tr>\n",
       "      <th>8</th>\n",
       "      <td>2019-11-01</td>\n",
       "      <td>1</td>\n",
       "    </tr>\n",
       "    <tr>\n",
       "      <th>9</th>\n",
       "      <td>2020-02-01</td>\n",
       "      <td>0</td>\n",
       "    </tr>\n",
       "  </tbody>\n",
       "</table>\n",
       "</div>"
      ],
      "text/plain": [
       "     EndDate  ExClients\n",
       "0 2020-02-01          0\n",
       "1 2020-02-01          0\n",
       "2 2019-12-01          1\n",
       "3 2020-02-01          0\n",
       "4 2019-11-01          1\n",
       "5 2019-11-01          1\n",
       "6 2020-02-01          0\n",
       "7 2020-02-01          0\n",
       "8 2019-11-01          1\n",
       "9 2020-02-01          0"
      ]
     },
     "execution_count": 24,
     "metadata": {},
     "output_type": "execute_result"
    }
   ],
   "source": [
    "df['ExClients'] = (df['EndDate'] != '2020-02-01').astype(int)\n",
    "\n",
    "df[['EndDate', 'ExClients']].head(10) #checking that the target feature is formed correctly"
   ]
  },
  {
   "cell_type": "markdown",
   "metadata": {
    "id": "-wnkVLA_zxNr"
   },
   "source": [
    "The target feature is created correctly."
   ]
  },
  {
   "cell_type": "markdown",
   "metadata": {
    "id": "81nEBpnNz1Kk"
   },
   "source": [
    "## Data analysis"
   ]
  },
  {
   "cell_type": "markdown",
   "metadata": {
    "id": "Epv-_nKg0RFN"
   },
   "source": [
    "In this step, I should check if is there any data leakage. For that, I check correlations of numerical and categorical features. Some features might need to be deleted from the dataset.\n",
    "<br>Also, I will check the interrelationships between the target and other features."
   ]
  },
  {
   "cell_type": "markdown",
   "metadata": {
    "id": "3h5iqhbL09cx"
   },
   "source": [
    "### Testing numerical features with Pearson correlation"
   ]
  },
  {
   "cell_type": "markdown",
   "metadata": {
    "id": "NIJ4seGs4CX4"
   },
   "source": [
    "Let's build the heat map for the correlation of numerical features.\n",
    "<br>For now, the data types are:"
   ]
  },
  {
   "cell_type": "code",
   "execution_count": 25,
   "metadata": {
    "colab": {
     "base_uri": "https://localhost:8080/"
    },
    "id": "FC3_hZqT5yAm",
    "outputId": "ca5eb0bb-7d4a-46e3-f110-1185e5dbd271"
   },
   "outputs": [
    {
     "name": "stdout",
     "output_type": "stream",
     "text": [
      "<class 'pandas.core.frame.DataFrame'>\n",
      "RangeIndex: 7032 entries, 0 to 7031\n",
      "Data columns (total 22 columns):\n",
      " #   Column            Non-Null Count  Dtype         \n",
      "---  ------            --------------  -----         \n",
      " 0   customerID        7032 non-null   object        \n",
      " 1   BeginDate         7032 non-null   datetime64[ns]\n",
      " 2   EndDate           7032 non-null   datetime64[ns]\n",
      " 3   Type              7032 non-null   object        \n",
      " 4   PaperlessBilling  7032 non-null   object        \n",
      " 5   PaymentMethod     7032 non-null   object        \n",
      " 6   MonthlyCharges    7032 non-null   float64       \n",
      " 7   TotalCharges      7032 non-null   float64       \n",
      " 8   InternetService   7032 non-null   object        \n",
      " 9   OnlineSecurity    7032 non-null   object        \n",
      " 10  OnlineBackup      7032 non-null   object        \n",
      " 11  DeviceProtection  7032 non-null   object        \n",
      " 12  TechSupport       7032 non-null   object        \n",
      " 13  StreamingTV       7032 non-null   object        \n",
      " 14  StreamingMovies   7032 non-null   object        \n",
      " 15  gender            7032 non-null   object        \n",
      " 16  SeniorCitizen     7032 non-null   object        \n",
      " 17  Partner           7032 non-null   object        \n",
      " 18  Dependents        7032 non-null   object        \n",
      " 19  MultipleLines     7032 non-null   object        \n",
      " 20  Duration          7032 non-null   int64         \n",
      " 21  ExClients         7032 non-null   int32         \n",
      "dtypes: datetime64[ns](2), float64(2), int32(1), int64(1), object(16)\n",
      "memory usage: 1.2+ MB\n"
     ]
    }
   ],
   "source": [
    "df.info()"
   ]
  },
  {
   "cell_type": "markdown",
   "metadata": {
    "id": "EuzsRb4p56f8"
   },
   "source": [
    "The features `SeniorCitizen` and `ExClients` are categorical, although they have a numeric type. The Pearson correlation will not be applicable to them.\n",
    "\n",
    "Let's create a dataset slice with numerical features: `MonthlyCharges`, `TotalCharges`, and `Duration`:"
   ]
  },
  {
   "cell_type": "code",
   "execution_count": 26,
   "metadata": {
    "id": "tK4OMGtg6fsV"
   },
   "outputs": [],
   "source": [
    "df_num = df[['MonthlyCharges', 'TotalCharges', 'Duration']]"
   ]
  },
  {
   "cell_type": "code",
   "execution_count": 27,
   "metadata": {
    "colab": {
     "base_uri": "https://localhost:8080/",
     "height": 487
    },
    "id": "SNb7vrYx1Bq9",
    "outputId": "97a3d010-0af1-4b1a-e786-2a55fff428e2"
   },
   "outputs": [
    {
     "data": {
      "image/png": "[encoded data removed]",
      "text/plain": [
       "<Figure size 1500x800 with 2 Axes>"
      ]
     },
     "metadata": {},
     "output_type": "display_data"
    }
   ],
   "source": [
    "plt.figure(figsize = (15,8))\n",
    "sns.heatmap(df_num.corr(), annot=True)\n",
    "plt.show();\n"
   ]
  },
  {
   "cell_type": "markdown",
   "metadata": {
    "id": "2rVgqF2N2L4g"
   },
   "source": [
    "As seen from the heat map, the feature `TotalCharges` has a strong correlation with `MonthlyCharges` and `Duration`."
   ]
  },
  {
   "cell_type": "markdown",
   "metadata": {
    "id": "oypHA-pw8Oyp"
   },
   "source": [
    "### Testing categorical features for multicollinearity"
   ]
  },
  {
   "cell_type": "markdown",
   "metadata": {
    "id": "z_RDit5M8ZUP"
   },
   "source": [
    "The next step is to check categorical features with the Phik correlation.\n",
    "\n",
    "As the Phik correlation can be used for categorical and numerical features successively, I'm going to use the full dataset for the next heat map."
   ]
  },
  {
   "cell_type": "code",
   "execution_count": 28,
   "metadata": {
    "colab": {
     "base_uri": "https://localhost:8080/",
     "height": 580
    },
    "id": "pk9YSWDq-ABs",
    "outputId": "3386d90a-f3d9-4244-92f3-f24862707de0"
   },
   "outputs": [
    {
     "name": "stdout",
     "output_type": "stream",
     "text": [
      "interval columns not set, guessing: ['MonthlyCharges', 'TotalCharges', 'Duration', 'ExClients']\n"
     ]
    },
    {
     "data": {
      "image/png": "[encoded data removed]",
      "text/plain": [
       "<Figure size 1500x800 with 2 Axes>"
      ]
     },
     "metadata": {},
     "output_type": "display_data"
    }
   ],
   "source": [
    "plt.figure(figsize = (15, 8))\n",
    "sns.heatmap(df.phik_matrix(), annot=True)\n",
    "plt.show();"
   ]
  },
  {
   "cell_type": "markdown",
   "metadata": {
    "id": "V94LhAvm7_0U"
   },
   "source": [
    "As seen on the matrix, there are some correlated features. Since this correlation shows non-linear dependencies and the project is faced with the task of classifying, the correlated features should not greatly interfere with the training of models. But some of them are better to remove:\n",
    "* The `customerID` feature correlates with all the others. I used it for merging. Now it doesn't have any useful information, because it is unique for each row. It is better to remove it;\n",
    "* There is a big correlation between target feature `ExClients` and contract end date `EndDate`. It makes sense because I made the first one using the second. To avoid data leakage when training the model, the `EndDate` feature must also be removed;\n",
    "* The similar situation with `BeginDate` and `Duration`. In addition, they can be used to restore the `EndDate` values, and again there will be a data leak. `BeginDate` will also need to be removed."
   ]
  },
  {
   "cell_type": "markdown",
   "metadata": {
    "id": "VXqQSt4I_qw7"
   },
   "source": [
    "### Checking the relationship between the target feature on others"
   ]
  },
  {
   "cell_type": "markdown",
   "metadata": {
    "id": "wv_dfGJ-BAsT"
   },
   "source": [
    "Let's check if there is any correlation between the target feature `ExClients` and others. I'm going to check both the features strongly correlated with the target one and the features that are potentially correlated with it.\n",
    "<br>Additionally, I'm going to check how the end dates and start dates of the contract are distributed.\n",
    "\n",
    "In other words, the check-list is:\n",
    "* density charts for the start and end dates of the contract,\n",
    "* chart of the relationship between the duration of the contract and the value of the target feature,\n",
    "* charts of relationship between the monthly and total payment and the target features."
   ]
  },
  {
   "cell_type": "markdown",
   "metadata": {
    "id": "VZyqlftuC0F4"
   },
   "source": [
    "First-off, a chart of distribution for the start and end dates of the contract."
   ]
  },
  {
   "cell_type": "code",
   "execution_count": 29,
   "metadata": {
    "colab": {
     "base_uri": "https://localhost:8080/",
     "height": 385
    },
    "id": "UOgLQTFoBRg0",
    "outputId": "d6058cb8-ad3a-4413-fdf0-344c30ad327f"
   },
   "outputs": [
    {
     "data": {
      "image/png": "[encoded data removed]",
      "text/plain": [
       "<Figure size 1000x500 with 1 Axes>"
      ]
     },
     "metadata": {},
     "output_type": "display_data"
    }
   ],
   "source": [
    "sns.displot(x='BeginDate',\n",
    "            data=df, \n",
    "            height=5,\n",
    "            aspect=2)\n",
    "plt.title('Distribution for the start dates of contract')\n",
    "plt.show();"
   ]
  },
  {
   "cell_type": "markdown",
   "metadata": {
    "id": "8VOtwPBTMFAS"
   },
   "source": [
    "Recently, there have been more and more new clients."
   ]
  },
  {
   "cell_type": "code",
   "execution_count": 30,
   "metadata": {
    "colab": {
     "base_uri": "https://localhost:8080/",
     "height": 385
    },
    "id": "aOYX2fCOKd_P",
    "outputId": "c7a34567-5de2-4d3c-f365-437a3744030d"
   },
   "outputs": [
    {
     "data": {
      "image/png": "[encoded data removed]",
      "text/plain": [
       "<Figure size 1000x500 with 1 Axes>"
      ]
     },
     "metadata": {},
     "output_type": "display_data"
    }
   ],
   "source": [
    "sns.displot(x='EndDate',\n",
    "            data=df, \n",
    "            height=5,\n",
    "            aspect=2)\n",
    "plt.title('Distribution for the end dates of contract')\n",
    "plt.show();"
   ]
  },
  {
   "cell_type": "markdown",
   "metadata": {
    "id": "N4HOQN-eMNR8"
   },
   "source": [
    "There are only four unique values for the end date contract (I ignore the date of collection of the data)."
   ]
  },
  {
   "cell_type": "markdown",
   "metadata": {
    "id": "HLt5hT9_MZ8J"
   },
   "source": [
    "Let's build a plot that shows the relationship between the category of the target attribute and the duration of the client's contract."
   ]
  },
  {
   "cell_type": "code",
   "execution_count": 31,
   "metadata": {
    "colab": {
     "base_uri": "https://localhost:8080/",
     "height": 513
    },
    "id": "gi4xG16eMm0H",
    "outputId": "d99a0484-68e0-4ac1-ac61-8bad4d800305"
   },
   "outputs": [
    {
     "data": {
      "image/png": "[encoded data removed]",
      "text/plain": [
       "<Figure size 1500x800 with 1 Axes>"
      ]
     },
     "metadata": {},
     "output_type": "display_data"
    }
   ],
   "source": [
    "plt.figure(figsize=(15,8))\n",
    "sns.boxplot(data=df, \n",
    "            x='ExClients',\n",
    "            y='Duration')\n",
    "plt.title(\"The dependence of the target feature and the duration of the client's contract\")\n",
    "plt.grid()\n",
    "plt.show();"
   ]
  },
  {
   "cell_type": "markdown",
   "metadata": {
    "id": "zFfp4fr8QQiS"
   },
   "source": [
    "As seen from the chart, the median duration of the contract for ex clients is less.\n",
    "<br>Nevertheless, there are single values of users who terminated the contract after long-term use - outliers in class 1 of the target feature."
   ]
  },
  {
   "cell_type": "markdown",
   "metadata": {
    "id": "YRcn2hsGSATj"
   },
   "source": [
    "Let's check how monthly and total payments and clients leaving are connected."
   ]
  },
  {
   "cell_type": "code",
   "execution_count": 32,
   "metadata": {
    "colab": {
     "base_uri": "https://localhost:8080/",
     "height": 385
    },
    "id": "RldDcR-HSMoR",
    "outputId": "f45630ef-12cc-40ff-ed32-1c68008043f7"
   },
   "outputs": [
    {
     "data": {
      "image/png": "[encoded data removed]",
      "text/plain": [
       "<Figure size 1075.49x500 with 1 Axes>"
      ]
     },
     "metadata": {},
     "output_type": "display_data"
    }
   ],
   "source": [
    "sns.displot(x='MonthlyCharges',\n",
    "            hue='ExClients',\n",
    "            data=df,\n",
    "            height=5,\n",
    "            aspect=2,\n",
    "            kde=True)\n",
    "plt.title(\"A connection between monthly payments and clients leaving\")\n",
    "plt.show();"
   ]
  },
  {
   "cell_type": "markdown",
   "metadata": {
    "id": "OQWxR-jnTYiq"
   },
   "source": [
    "Clients whose monthly payment was between 75 and 100 cash (CU) were more likely to terminate the contract. Perhaps the customer in this segment has a less competitive tariff.\n",
    "\n",
    "The most popular tariff for current clients is 20 monetary units.\n",
    "<br>Checking that this is due to the significant growth of new customers."
   ]
  },
  {
   "cell_type": "code",
   "execution_count": 33,
   "metadata": {
    "colab": {
     "base_uri": "https://localhost:8080/",
     "height": 350
    },
    "id": "O1T604u7VnuG",
    "outputId": "3223fabe-a8bd-4518-9d7b-5b2030c6bdfa"
   },
   "outputs": [
    {
     "data": {
      "image/png": "[encoded data removed]",
      "text/plain": [
       "<Figure size 1200x500 with 1 Axes>"
      ]
     },
     "metadata": {},
     "output_type": "display_data"
    }
   ],
   "source": [
    "plt.figure(figsize=(12,5))\n",
    "df.query('MonthlyCharges == 20')['BeginDate'].hist(bins=20);\n",
    "plt.title(\"Allocation of customers with a monthly payment of CU20 by year of contract\")\n",
    "plt.xlabel('Begin Date')\n",
    "plt.ylabel('Count')\n",
    "plt.show();"
   ]
  },
  {
   "cell_type": "markdown",
   "metadata": {
    "id": "omA9J_g2XTpS"
   },
   "source": [
    "Indeed, most customers with a tariff for CU 20 appeared from the end of 2019 to the beginning of 2020."
   ]
  },
  {
   "cell_type": "code",
   "execution_count": 34,
   "metadata": {
    "colab": {
     "base_uri": "https://localhost:8080/",
     "height": 385
    },
    "id": "-ZXqEDo2TGFJ",
    "outputId": "54e69027-db25-4431-d91a-15228631f319"
   },
   "outputs": [
    {
     "data": {
      "image/png": "[encoded data removed]",
      "text/plain": [
       "<Figure size 1075.49x500 with 1 Axes>"
      ]
     },
     "metadata": {},
     "output_type": "display_data"
    }
   ],
   "source": [
    "sns.displot(x='TotalCharges',\n",
    "            hue='ExClients',\n",
    "            data=df,\n",
    "            height=5,\n",
    "            aspect=2,\n",
    "            kde=True)\n",
    "plt.title(\"Relationship between total payments and client's leaving\")\n",
    "plt.show();"
   ]
  },
  {
   "cell_type": "markdown",
   "metadata": {
    "id": "1P3YwKYpUVbi"
   },
   "source": [
    "So, the more the customer pays, the less likely they are to terminate the contract. Most likely, this is due to the fact that there is an inverse relationship between the duration of the contract and the number of clients who left."
   ]
  },
  {
   "cell_type": "markdown",
   "metadata": {
    "id": "V8N8Cc65KrM2"
   },
   "source": [
    "**Intermediate conclusions:**\n",
    "* There is a growth of new clients between the end of 2019 and the beginning of 2020. Perhaps this is due to a promotion or other stimulating action;\n",
    "* It is worth noting that there are only four unique values for the end date contract (I ignore the date of data collection). Perhaps this is due to the fact that the client's status is not regularly checked, only with some periodicity;\n",
    "* As seen on the box plot, old clients who would use services for more than 1000 days are less likely to terminate the contract;\n",
    "* As seen on the chart with monthly payments, the most popular tariff is the cheapest one, for 20 monetary units. More likely, this is due to the growth of new customers;\n",
    "* A popular monthly payment interval for ex-clients is CU75-100. Perhaps the customer's company should change their tariff plans in this segment, as they may turn out to be uncompetitive ones;\n",
    "* There is a noticeable connection between the summed payments and the number of clients who left. Most likely, this is a consequence of the connection already found, that the longer the clients use the services of the company, the less likely it is that they will want to terminate the contract."
   ]
  },
  {
   "cell_type": "markdown",
   "metadata": {
    "id": "Yreenbx9ZZlb"
   },
   "source": [
    "After the analysis step is completed, I should remove the features that may interfere with the correct training of the model:"
   ]
  },
  {
   "cell_type": "code",
   "execution_count": 35,
   "metadata": {
    "colab": {
     "base_uri": "https://localhost:8080/"
    },
    "id": "D2D6xFw6Zjq-",
    "outputId": "b4dfc636-cb38-413a-a19f-b83ce9fbe86a"
   },
   "outputs": [
    {
     "data": {
      "text/plain": [
       "array(['Type', 'PaperlessBilling', 'PaymentMethod', 'MonthlyCharges',\n",
       "       'InternetService', 'OnlineSecurity', 'OnlineBackup',\n",
       "       'DeviceProtection', 'TechSupport', 'StreamingTV',\n",
       "       'StreamingMovies', 'gender', 'SeniorCitizen', 'Partner',\n",
       "       'Dependents', 'MultipleLines', 'Duration', 'ExClients'],\n",
       "      dtype=object)"
      ]
     },
     "execution_count": 35,
     "metadata": {},
     "output_type": "execute_result"
    }
   ],
   "source": [
    "df = df.drop(['TotalCharges', 'customerID', 'BeginDate', 'EndDate'], axis=1).copy()\n",
    "df.columns.values #checking\n"
   ]
  },
  {
   "cell_type": "markdown",
   "metadata": {
    "id": "V965FRWWB31S"
   },
   "source": [
    "## Models training"
   ]
  },
  {
   "cell_type": "markdown",
   "metadata": {
    "id": "XcBbbKzlgeVz"
   },
   "source": [
    "To solve the task of binary classification (whether the clients stays or leaves), the following models will be used:\n",
    "1. Random Forest,\n",
    "2. XGBoost,\n",
    "3. C-Support Vector Classification."
   ]
  },
  {
   "cell_type": "markdown",
   "metadata": {
    "id": "Eo9y6NIXg8NZ"
   },
   "source": [
    "For the estimation of quality ROC-AUC metric will be applied. Additionally, the Accuracy metric will be checked.\n",
    "<br>Selection of optimal parameters and testing of models will be made by cross-validation"
   ]
  },
  {
   "cell_type": "markdown",
   "metadata": {
    "id": "mHZzZylwB_lh"
   },
   "source": [
    "### Features' separation"
   ]
  },
  {
   "cell_type": "markdown",
   "metadata": {
    "id": "lmzxeXBse_9A"
   },
   "source": [
    "Let's separate the target feature from the others:"
   ]
  },
  {
   "cell_type": "code",
   "execution_count": 36,
   "metadata": {
    "id": "wqUMqdb5fG0t"
   },
   "outputs": [],
   "source": [
    "features = df.drop(['ExClients'], axis=1)\n",
    "target = df['ExClients']"
   ]
  },
  {
   "cell_type": "markdown",
   "metadata": {
    "id": "TgMQfI5ZY_Mf"
   },
   "source": [
    "Now, let's split the data on testing and training samples in a ratio of 1:3."
   ]
  },
  {
   "cell_type": "code",
   "execution_count": 37,
   "metadata": {
    "colab": {
     "base_uri": "https://localhost:8080/"
    },
    "id": "d-iX3XqhZKOc",
    "outputId": "595e6334-569e-4f66-a26e-5682d202e471"
   },
   "outputs": [
    {
     "data": {
      "text/plain": [
       "((5274, 17), (5274,), (1758, 17), (1758,))"
      ]
     },
     "execution_count": 37,
     "metadata": {},
     "output_type": "execute_result"
    }
   ],
   "source": [
    "train_features, test_features, train_target, test_target = train_test_split(\n",
    "                                                                      features, target, test_size=0.25, stratify=target, random_state=RANDOM_STATE\n",
    "                                                                      )\n",
    "\n",
    "train_features.shape, train_target.shape, test_features.shape, test_target.shape #checking"
   ]
  },
  {
   "cell_type": "markdown",
   "metadata": {
    "id": "Vu6xzWKqC1OF"
   },
   "source": [
    "### Processing of categorical features"
   ]
  },
  {
   "cell_type": "markdown",
   "metadata": {
    "id": "E6iqBp_b5tIy"
   },
   "source": [
    "To encode categorical features, I'm going to use:\n",
    "\n",
    "* Ordinal Encoding (OrdinalEncoding) for all models except the SVC model,\n",
    "* Direct Encoding (OneHotEncoding) for SVC model.\n",
    "\n",
    "Let's create a list of categorical features that need to be encoded:"
   ]
  },
  {
   "cell_type": "code",
   "execution_count": 38,
   "metadata": {
    "id": "WfvU_cD87pJR"
   },
   "outputs": [],
   "source": [
    "cat_list = df.columns[df.dtypes==object]"
   ]
  },
  {
   "cell_type": "markdown",
   "metadata": {
    "id": "pjMx7Z9bwhCb"
   },
   "source": [
    "Creating a list of numerical features:"
   ]
  },
  {
   "cell_type": "code",
   "execution_count": 39,
   "metadata": {
    "id": "FjLMKiUJv_ou"
   },
   "outputs": [],
   "source": [
    "num_list = features.columns[features.dtypes!=object]"
   ]
  },
  {
   "cell_type": "markdown",
   "metadata": {
    "id": "Nxj7Ho0fGGyf"
   },
   "source": [
    "Creating encodings:"
   ]
  },
  {
   "cell_type": "code",
   "execution_count": 40,
   "metadata": {
    "id": "98Y6E8XcFDYY"
   },
   "outputs": [],
   "source": [
    "encoder_oe = OrdinalEncoder(handle_unknown='use_encoded_value', unknown_value=-1)\n",
    "encoder_ohe = OneHotEncoder(drop='first', handle_unknown='ignore')\n",
    "encoder_ss = StandardScaler()"
   ]
  },
  {
   "cell_type": "markdown",
   "metadata": {
    "id": "HNyHEszcHO9I"
   },
   "source": [
    "Transformers for encoding:"
   ]
  },
  {
   "cell_type": "code",
   "execution_count": 41,
   "metadata": {
    "id": "7EEu3VbvHD-I"
   },
   "outputs": [],
   "source": [
    "col_transformer_oe = make_column_transformer(\n",
    "    (encoder_oe, cat_list),\n",
    "    remainder='passthrough'\n",
    "    )\n",
    "\n",
    "col_transformer_ohe = make_column_transformer(\n",
    "    (encoder_ohe, cat_list),\n",
    "    (encoder_ss, num_list),\n",
    "    remainder='passthrough'\n",
    "    )"
   ]
  },
  {
   "cell_type": "markdown",
   "metadata": {
    "id": "xeT3rzbtC5Ez"
   },
   "source": [
    "### Calculation of optimal hyperparameters, training of models and calculation of metrics"
   ]
  },
  {
   "cell_type": "markdown",
   "metadata": {
    "id": "zl5BRI7lJwl4"
   },
   "source": [
    "The research of optimal hyperparameters will be performed using the Pipeline construction.\n",
    "<br>I'm going to use *ROC-AUC* as the basis of the metric, and check the *Accuracy* metric as an additional one."
   ]
  },
  {
   "cell_type": "markdown",
   "metadata": {
    "id": "zshN7kyCC_Xb"
   },
   "source": [
    "#### For a Random Forest Classifier"
   ]
  },
  {
   "cell_type": "markdown",
   "metadata": {
    "id": "BMiu7cjf-wrM"
   },
   "source": [
    "Let's create the dictionary of possible hyperparameters:"
   ]
  },
  {
   "cell_type": "code",
   "execution_count": 42,
   "metadata": {
    "id": "zkg8hehM-2as"
   },
   "outputs": [],
   "source": [
    "param_forest = {'randomforestclassifier__n_estimators': range (1, 11, 2),\n",
    "               'randomforestclassifier__max_depth': range (1,13, 2)\n",
    "               }"
   ]
  },
  {
   "cell_type": "markdown",
   "metadata": {
    "id": "-D2fapqIJhgq"
   },
   "source": [
    "Creating pipeline:"
   ]
  },
  {
   "cell_type": "code",
   "execution_count": 43,
   "metadata": {
    "id": "Nfddu7iW-S8R"
   },
   "outputs": [],
   "source": [
    "pipeline_forest = make_pipeline(\n",
    "    col_transformer_oe, RandomForestClassifier(random_state=RANDOM_STATE, class_weight='balanced')\n",
    "    )"
   ]
  },
  {
   "cell_type": "markdown",
   "metadata": {
    "id": "Q_57jRToJmYI"
   },
   "source": [
    "Using GridSearchCV for running cross-validation and fitting hyperparameters:"
   ]
  },
  {
   "cell_type": "code",
   "execution_count": 44,
   "metadata": {
    "id": "JUIuQIthD870"
   },
   "outputs": [],
   "source": [
    "clf_forest = GridSearchCV(pipeline_forest, param_grid=param_forest, \n",
    "                          scoring=['roc_auc', 'accuracy'], refit='roc_auc', return_train_score=True,\n",
    "                          cv=5)"
   ]
  },
  {
   "cell_type": "markdown",
   "metadata": {
    "id": "QvnyJ0kIKCDa"
   },
   "source": [
    "Let's train *RandomForest* model on the training sample and get optimal hyperparameters and the main metric *ROC-AUC* and an additional one *Accuracy*:"
   ]
  },
  {
   "cell_type": "code",
   "execution_count": 45,
   "metadata": {
    "colab": {
     "base_uri": "https://localhost:8080/"
    },
    "id": "T9-IWAj0EP1-",
    "outputId": "78ca2b1e-fbd3-4734-e389-b68a53c50776"
   },
   "outputs": [
    {
     "name": "stdout",
     "output_type": "stream",
     "text": [
      "The optimal hyperparameters for a Random Forest Classifier model: {'randomforestclassifier__max_depth': 7, 'randomforestclassifier__n_estimators': 9}\n",
      "The ROC-AUC metric of a Random Forest Classifier model: 0.8470966079894826\n",
      "The Accuracy metric of a Random Forest Classifier model: 0.7298685995725304\n"
     ]
    }
   ],
   "source": [
    "clf_forest.fit(train_features, train_target)\n",
    "print(f'The optimal hyperparameters for a Random Forest Classifier model: {clf_forest.best_params_}')\n",
    "print(f'The ROC-AUC metric of a Random Forest Classifier model: {clf_forest.best_score_}')\n",
    "print(f\"The Accuracy metric of a Random Forest Classifier model: {clf_forest.cv_results_['mean_test_accuracy'].mean()}\")"
   ]
  },
  {
   "cell_type": "markdown",
   "metadata": {
    "id": "hqfgM-ziDFWn"
   },
   "source": [
    "#### For XGBoost model"
   ]
  },
  {
   "cell_type": "markdown",
   "metadata": {
    "id": "PwgiEhveKNnh"
   },
   "source": [
    "I need to repeat the same steps for the XGBoost model.\n",
    "\n",
    "Creating a dictionary of possible hyperparameters:"
   ]
  },
  {
   "cell_type": "code",
   "execution_count": 46,
   "metadata": {
    "id": "K8mq3MKKKj48"
   },
   "outputs": [],
   "source": [
    "param_xgboost = {'xgbclassifier__subsample': [0.6, 0.8, 1.0],\n",
    "                 'xgbclassifier__max_depth': [3, 4, 5]\n",
    "                 }"
   ]
  },
  {
   "cell_type": "markdown",
   "metadata": {
    "id": "EA_ATscaNC9h"
   },
   "source": [
    "Let's start the search for optimal hyperparameters:"
   ]
  },
  {
   "cell_type": "code",
   "execution_count": 47,
   "metadata": {
    "id": "uns4YYKnp-mE"
   },
   "outputs": [],
   "source": [
    "pipeline_xgb = make_pipeline(\n",
    "    col_transformer_oe, XGBClassifier(random_state=RANDOM_STATE)\n",
    "    )"
   ]
  },
  {
   "cell_type": "markdown",
   "metadata": {
    "id": "p0bakVZjdDNY"
   },
   "source": [
    "Start GridSearchCV:"
   ]
  },
  {
   "cell_type": "code",
   "execution_count": 48,
   "metadata": {
    "id": "S1yPgcbehJaq"
   },
   "outputs": [],
   "source": [
    "clf_xgb = GridSearchCV(pipeline_xgb, param_grid=param_xgboost, \n",
    "                       scoring=['roc_auc', 'accuracy'], refit='roc_auc', \n",
    "                       return_train_score=True, cv=5)"
   ]
  },
  {
   "cell_type": "markdown",
   "metadata": {
    "id": "TKDggIASdodo"
   },
   "source": [
    "Let's train the model and display the resulting hyperparameters and two metrics:"
   ]
  },
  {
   "cell_type": "code",
   "execution_count": 49,
   "metadata": {
    "colab": {
     "base_uri": "https://localhost:8080/"
    },
    "id": "wVK9AukiNH7G",
    "outputId": "9085cf63-c624-42dd-eb9c-819d54fe8bb2",
    "scrolled": true
   },
   "outputs": [
    {
     "name": "stdout",
     "output_type": "stream",
     "text": [
      "The optimal hyperparameters for a XGBoost model: {'xgbclassifier__max_depth': 5, 'xgbclassifier__subsample': 1.0}\n",
      "The ROC-AUC metric of a XGBoost model: 0.9055327956311228\n",
      "The Accuracy metric of a XGBoost model: 0.8470050850692415\n"
     ]
    }
   ],
   "source": [
    "clf_xgb.fit(train_features, train_target)\n",
    "print(f'The optimal hyperparameters for a XGBoost model: {clf_xgb.best_params_}')\n",
    "print(f'The ROC-AUC metric of a XGBoost model: {clf_xgb.best_score_}')\n",
    "print(f\"The Accuracy metric of a XGBoost model: {clf_xgb.cv_results_['mean_test_accuracy'].mean()}\")"
   ]
  },
  {
   "cell_type": "markdown",
   "metadata": {
    "id": "n5jkPNSgDKxr"
   },
   "source": [
    "#### For C-Support Vector Classification model"
   ]
  },
  {
   "cell_type": "markdown",
   "metadata": {
    "id": "cn8A_pu6eM2D"
   },
   "source": [
    "Let's create a dictionary of hyperparameters, and structure Pipeline. Start *GridSearchCV*, as in the previous steps:"
   ]
  },
  {
   "cell_type": "code",
   "execution_count": 50,
   "metadata": {
    "id": "DP3lS18ymawE"
   },
   "outputs": [],
   "source": [
    "param_svc = {'svc__C': [0.1, 1, 10, 100, 1000], \n",
    "             'svc__gamma': [1, 0.1, 0.01, 0.001, 0.0001]\n",
    "             }"
   ]
  },
  {
   "cell_type": "code",
   "execution_count": 51,
   "metadata": {
    "id": "VhEp8sGzmdJQ"
   },
   "outputs": [],
   "source": [
    "pipeline_svс = make_pipeline(\n",
    "    col_transformer_ohe, SVC(random_state=RANDOM_STATE, class_weight='balanced')\n",
    "    )"
   ]
  },
  {
   "cell_type": "code",
   "execution_count": 52,
   "metadata": {
    "id": "n0Cc-F_UmdUS"
   },
   "outputs": [],
   "source": [
    "clf_svc = GridSearchCV(pipeline_svс, param_grid=param_svc, scoring=['roc_auc', 'accuracy'], \n",
    "                       refit='roc_auc', return_train_score=True, cv=5)"
   ]
  },
  {
   "cell_type": "markdown",
   "metadata": {
    "id": "GlwUwgJafOOa"
   },
   "source": [
    "Let's train the model and display the resulting hyperparameters and two metrics:"
   ]
  },
  {
   "cell_type": "code",
   "execution_count": 53,
   "metadata": {
    "colab": {
     "base_uri": "https://localhost:8080/"
    },
    "id": "BC-XMOX1mddA",
    "outputId": "fdf03d0e-254b-4f7e-d801-c6c643273ece"
   },
   "outputs": [
    {
     "name": "stdout",
     "output_type": "stream",
     "text": [
      "The optimal hyperparameters for a SVC model: {'svc__C': 100, 'svc__gamma': 0.001}\n",
      "The ROC-AUC metric of a SVC model: 0.8402240742400477\n",
      "The Accuracy metric of a SVC model: 0.7211813771954279\n"
     ]
    }
   ],
   "source": [
    "clf_svc.fit(train_features, train_target)\n",
    "print(f'The optimal hyperparameters for a SVC model: {clf_svc.best_params_}')\n",
    "print(f'The ROC-AUC metric of a SVC model: {clf_svc.best_score_}')\n",
    "print(f\"The Accuracy metric of a SVC model: {clf_svc.cv_results_['mean_test_accuracy'].mean()}\")"
   ]
  },
  {
   "cell_type": "markdown",
   "metadata": {
    "id": "-ZJPA-0IqmEL"
   },
   "source": [
    "**Intermediate conclusion:**\n",
    "\n",
    "The boosting model XGBoost turned out to be the best model.\n",
    "<br>Let's check it on the test sample."
   ]
  },
  {
   "cell_type": "markdown",
   "metadata": {
    "id": "3soK9nSHEJ43"
   },
   "source": [
    "## Checking the ROC-AUC quality metric for the test sample"
   ]
  },
  {
   "cell_type": "markdown",
   "metadata": {
    "id": "cWfvLHpOvV_f"
   },
   "source": [
    "Let's get the prediction for the test sample and calculate *ROC-AUC* metric:"
   ]
  },
  {
   "cell_type": "code",
   "execution_count": 54,
   "metadata": {
    "colab": {
     "base_uri": "https://localhost:8080/"
    },
    "id": "hzEzcWLHqyxf",
    "outputId": "bee090ab-245a-485e-bccc-726abbc6ad13"
   },
   "outputs": [
    {
     "name": "stdout",
     "output_type": "stream",
     "text": [
      "The metric ROC-AUC for the test sample: 0.9164442682580938\n"
     ]
    }
   ],
   "source": [
    "predictions_proba = clf_xgb.predict_proba(test_features)[:, 1] #a prediction of client's leaving\n",
    "roc_auc = roc_auc_score(test_target, predictions_proba)\n",
    "print(f'The metric ROC-AUC for the test sample: {roc_auc}')"
   ]
  },
  {
   "cell_type": "markdown",
   "metadata": {
    "id": "yiiTp4KSzdOq"
   },
   "source": [
    "The chart of the ROC curve for the resulting XGBoost  model:"
   ]
  },
  {
   "cell_type": "code",
   "execution_count": 55,
   "metadata": {
    "colab": {
     "base_uri": "https://localhost:8080/",
     "height": 350
    },
    "id": "w8lbyNLgzwMZ",
    "outputId": "4cbcba97-c8de-4585-b2ab-89b2b7aa2d78"
   },
   "outputs": [
    {
     "data": {
      "image/png": "[encoded data removed]",
      "text/plain": [
       "<Figure size 1000x500 with 1 Axes>"
      ]
     },
     "metadata": {},
     "output_type": "display_data"
    }
   ],
   "source": [
    "fpr, tpr, thresholds = roc_curve(test_target, predictions_proba, pos_label=1)\n",
    "plt.figure(figsize=(10, 5))\n",
    "plt.plot(fpr, tpr, label=\"XGBoost model's ROC-curve\")\n",
    "plt.plot([0, 1], [0, 1], linestyle='--', label='Random model')\n",
    "plt.xlim([0.0, 1.0])\n",
    "plt.ylim([0.0, 1.0])\n",
    "plt.xlabel('False Positive Rate')\n",
    "plt.ylabel('True Positive Rate')\n",
    "plt.title('ROC-curve')\n",
    "plt.legend()\n",
    "plt.show();"
   ]
  },
  {
   "cell_type": "markdown",
   "metadata": {
    "id": "UmsS9gkL5udN"
   },
   "source": [
    "The area under the curve is quite large, which indicates a good accuracy of the chosen model."
   ]
  },
  {
   "cell_type": "markdown",
   "metadata": {
    "id": "zKzgOgNPQuTp"
   },
   "source": [
    "Let's build a feature importance graph for the XGBoost model:"
   ]
  },
  {
   "cell_type": "code",
   "execution_count": 56,
   "metadata": {
    "id": "vyPbKzL8QuTp",
    "outputId": "11e6c386-5c9b-42cc-af56-0d252721d6c3",
    "scrolled": true
   },
   "outputs": [
    {
     "data": {
      "image/png": "[encoded data removed]",
      "text/plain": [
       "<Figure size 1200x600 with 1 Axes>"
      ]
     },
     "metadata": {},
     "output_type": "display_data"
    }
   ],
   "source": [
    "feature_importance = clf_xgb.best_estimator_.steps[1][1].feature_importances_\n",
    "sorted_idx = np.argsort(feature_importance)\n",
    "fig = plt.figure(figsize=(12, 6))\n",
    "plt.barh(range(len(sorted_idx)), feature_importance[sorted_idx], align='center')\n",
    "plt.yticks(range(len(sorted_idx)), np.array(test_features.columns)[sorted_idx])\n",
    "plt.title('Feature Importance');"
   ]
  },
  {
   "cell_type": "markdown",
   "metadata": {
    "id": "ZJwq6zf8QuTq"
   },
   "source": [
    "As seen, the most important feature of the chosen model is the type of client's tariff."
   ]
  },
  {
   "cell_type": "markdown",
   "metadata": {
    "id": "dtRlVsPHEYOF"
   },
   "source": [
    "## Main conclusions"
   ]
  },
  {
   "cell_type": "markdown",
   "metadata": {
    "id": "Mzy6ZLB4XfGt"
   },
   "source": [
    "**General conclusion**\n",
    "\n",
    "In the **Telecom** project, I had to build a model to predict customer churn.\n",
    "<br>Four tables were provided by the customer as given data:\n",
    "1. contract.csv - information about the contract,\n",
    "2. personal.csv - personal data of the client,\n",
    "3. internet.csv - information about the Internet services,\n",
    "4. phone.csv - information about phone services.\n",
    "\n",
    "The following steps were taken to solve the problem:\n",
    "* To prepare data for analysis and model building, I:\n",
    "     * merged four data tables into one dataframe using the common field `CustomerID`;\n",
    "     * converted all features to their expected types;\n",
    "     * checked that there are no explicit and implicit duplicates;\n",
    "     * checked numerical data for anomalies;\n",
    "     * created an additional attribute - `Duration` (service usage duration), as the difference between the `EndDate` and `BeginDate` attributes. In case there is no contract end date yet, I substituted the data collection date with 01-02-2020;\n",
    "     * created a target attribute `ExClients` - whether the person is a current client or not. The binary categorical feature was formed using the `EndDate` attribute: 0 - there is no contract end date in the source data, 1 - the contract end date is known.\n",
    "* Then I proceeded to the data analysis step:\n",
    "     * checked numerical features for Pearson's correlation. I noticed that the feature `TotalCharges` (total payments) strongly correlates with the other two: `MonthlyCharges` and `Duration`. This means that it does not bring much new benefit to prediction models. Based on this, I decided to remove this feature;\n",
    "     * checked all features of the dataset for multicollinearity using correlation *Phik*. Based on the analysis, I decided to remove the features:\n",
    "         * `customerID` - it is unique for each object, has no meaning for the learning model,\n",
    "         * `EndDate` - correlates with the target feature,\n",
    "         * `BeginDate` - correlates with the `Duration` At the same time using it may make it possible to restore the `EndDate` feature;\n",
    "     * checked how the start and end dates of the contract are distributed. It turned out that the largest growth in new customers occurred at the turn of 2019-2020;\n",
    "     * checked the connection of the target feature with the duration of the contract and monthly and general payments. It turned out that:\n",
    "         * customers who use the services for more than 1000 days are less likely to terminate the contract,\n",
    "         * the most popular tariff among existing customers is for 20 monetary units, which is most likely due to the growth of new customers,\n",
    "         * more all former clients with monthly payments in the range of CU 75-100.\n",
    "* The main part of the project is training models. For that, I:\n",
    "     * divided the features into two groups: the target `ExClients` and the rest. Each of these two groups was divided into training and testing. After the features were removed in the analysis stage, the following remained as features for training:\n",
    "         * `Type`,\n",
    "         * `PaperlessBilling`,\n",
    "         * `PaymentMethod`,\n",
    "         * `MonthlyCharges`,\n",
    "         * `Internet Service`,\n",
    "         * `OnlineSecurity`,\n",
    "         * `Online Backup`,\n",
    "         * `DeviceProtection`,\n",
    "         * `TechSupport`,\n",
    "         * `StreamingTV`,\n",
    "         * `StreamingMovies`,\n",
    "         * `gender`,\n",
    "         * `Senior Citizen`,\n",
    "         * `Partner`,\n",
    "         * `Dependents`,\n",
    "         * `MultipleLines`,\n",
    "         * `Duration`.\n",
    "     * Created encoders for linear and non-linear models;\n",
    "     * To solve the problem, I tested three models: Random Forest, XGBoost, and SVC. For each of the three models, I:\n",
    "         * made a selection of hyperparameters using *Pipeline*,\n",
    "         * calculated the ROC-AUC metric on optimal hyperparameters as the average of five *GridSearchCV* iterations. The metric is key to solving the problem since this metric takes into account trade-offs between accuracy and recall;\n",
    "         * computed the Accuracy metric.\n",
    "     * The best model turned out - **XGBoost**:\n",
    "         * Optimal hyperparameters: max_depth: 5, subsample: 1.0;\n",
    "         * ROC-AUC = 0.90295;\n",
    "         * Accuracy = 0.8442.\n",
    "* On the test set, the XGBoost model showed ROC-AUC = 0.91248.\n",
    "\n",
    "**Constants used:**\n",
    "<br>The size of the test sample was taken as 0.25.\n",
    "<br>Parameter *random_state* = 13032023.\n",
    "\n",
    "**Key milestones:**\n",
    "1. To find where to get the target feature;\n",
    "2. To generate the correct additional training feature. As the feature importance graph shows, it is in the top three;\n",
    "3. Correctly identify the fields that need to be deleted;\n",
    "4. To code categorical features and numerical features for linear models.\n",
    "<br>I think, that the points listed above could have influenced the value of the metric being checked."
   ]
  },
  {
   "cell_type": "code",
   "execution_count": null,
   "metadata": {},
   "outputs": [],
   "source": []
  }
 ],
 "metadata": {
  "ExecuteTimeLog": [
   {
    "duration": 29491,
    "start_time": "2023-03-17T16:11:36.354Z"
   },
   {
    "duration": 1831,
    "start_time": "2023-03-17T16:12:05.848Z"
   },
   {
    "duration": 348,
    "start_time": "2023-03-17T16:12:07.681Z"
   },
   {
    "duration": 3,
    "start_time": "2023-03-17T16:12:08.032Z"
   },
   {
    "duration": 183,
    "start_time": "2023-03-17T16:12:08.037Z"
   },
   {
    "duration": 55107,
    "start_time": "2023-03-24T12:17:15.494Z"
   },
   {
    "duration": 6995,
    "start_time": "2023-03-24T12:18:10.604Z"
   },
   {
    "duration": 231,
    "start_time": "2023-03-24T12:18:17.601Z"
   },
   {
    "duration": 0,
    "start_time": "2023-03-24T12:18:17.833Z"
   },
   {
    "duration": 0,
    "start_time": "2023-03-24T12:18:17.840Z"
   },
   {
    "duration": 0,
    "start_time": "2023-03-24T12:18:17.840Z"
   },
   {
    "duration": 0,
    "start_time": "2023-03-24T12:18:17.841Z"
   },
   {
    "duration": 411,
    "start_time": "2023-03-24T12:18:36.488Z"
   },
   {
    "duration": 6,
    "start_time": "2023-03-24T12:18:38.051Z"
   },
   {
    "duration": 184,
    "start_time": "2023-03-24T12:18:38.588Z"
   },
   {
    "duration": 25,
    "start_time": "2023-03-24T12:18:40.515Z"
   },
   {
    "duration": 4,
    "start_time": "2023-03-24T12:18:40.899Z"
   },
   {
    "duration": 20,
    "start_time": "2023-03-24T12:18:42.064Z"
   },
   {
    "duration": 20,
    "start_time": "2023-03-24T12:18:44.091Z"
   },
   {
    "duration": 27,
    "start_time": "2023-03-24T12:18:44.660Z"
   },
   {
    "duration": 15,
    "start_time": "2023-03-24T12:18:47.587Z"
   },
   {
    "duration": 16,
    "start_time": "2023-03-24T12:18:50.419Z"
   },
   {
    "duration": 4,
    "start_time": "2023-03-24T12:19:13.381Z"
   },
   {
    "duration": 25,
    "start_time": "2023-03-24T12:19:14.083Z"
   },
   {
    "duration": 19,
    "start_time": "2023-03-24T12:19:16.359Z"
   },
   {
    "duration": 16,
    "start_time": "2023-03-24T12:19:16.684Z"
   },
   {
    "duration": 3946,
    "start_time": "2023-03-24T12:21:14.347Z"
   },
   {
    "duration": 115,
    "start_time": "2023-03-24T12:21:21.183Z"
   },
   {
    "duration": 3,
    "start_time": "2023-03-24T12:21:21.974Z"
   },
   {
    "duration": 149,
    "start_time": "2023-03-24T12:21:22.154Z"
   },
   {
    "duration": 31,
    "start_time": "2023-03-24T12:21:23.319Z"
   },
   {
    "duration": 6,
    "start_time": "2023-03-24T12:21:23.649Z"
   },
   {
    "duration": 17,
    "start_time": "2023-03-24T12:21:24.312Z"
   },
   {
    "duration": 22,
    "start_time": "2023-03-24T12:21:25.055Z"
   },
   {
    "duration": 24,
    "start_time": "2023-03-24T12:21:25.399Z"
   },
   {
    "duration": 14,
    "start_time": "2023-03-24T12:21:26.495Z"
   },
   {
    "duration": 14,
    "start_time": "2023-03-24T12:21:28.184Z"
   },
   {
    "duration": 5,
    "start_time": "2023-03-24T12:21:29.791Z"
   },
   {
    "duration": 23,
    "start_time": "2023-03-24T12:21:31.157Z"
   },
   {
    "duration": 220,
    "start_time": "2023-03-24T12:21:33.355Z"
   },
   {
    "duration": 9,
    "start_time": "2023-03-24T12:22:25.095Z"
   },
   {
    "duration": 14,
    "start_time": "2023-03-24T12:22:32.014Z"
   },
   {
    "duration": 19,
    "start_time": "2023-03-24T12:24:05.354Z"
   },
   {
    "duration": 16,
    "start_time": "2023-03-24T12:24:06.164Z"
   },
   {
    "duration": 3,
    "start_time": "2023-03-24T12:24:08.662Z"
   },
   {
    "duration": 974,
    "start_time": "2023-03-24T12:24:08.828Z"
   },
   {
    "duration": 5,
    "start_time": "2023-03-24T12:24:11.253Z"
   },
   {
    "duration": 24,
    "start_time": "2023-03-24T12:24:12.781Z"
   },
   {
    "duration": 12,
    "start_time": "2023-03-24T12:24:15.481Z"
   },
   {
    "duration": 18,
    "start_time": "2023-03-24T12:24:16.717Z"
   },
   {
    "duration": 4,
    "start_time": "2023-03-24T12:24:17.059Z"
   },
   {
    "duration": 391,
    "start_time": "2023-03-24T12:24:17.414Z"
   },
   {
    "duration": 21714,
    "start_time": "2023-03-24T12:24:19.959Z"
   },
   {
    "duration": 697,
    "start_time": "2023-03-24T12:24:41.676Z"
   },
   {
    "duration": 629,
    "start_time": "2023-03-24T12:24:42.375Z"
   },
   {
    "duration": 337,
    "start_time": "2023-03-24T12:24:43.007Z"
   },
   {
    "duration": 850,
    "start_time": "2023-03-24T12:24:43.346Z"
   },
   {
    "duration": 539,
    "start_time": "2023-03-24T12:24:44.198Z"
   },
   {
    "duration": 824,
    "start_time": "2023-03-24T12:24:44.743Z"
   },
   {
    "duration": 7,
    "start_time": "2023-03-24T12:24:45.569Z"
   },
   {
    "duration": 12,
    "start_time": "2023-03-24T12:24:45.578Z"
   },
   {
    "duration": 11,
    "start_time": "2023-03-24T12:24:45.592Z"
   },
   {
    "duration": 4,
    "start_time": "2023-03-24T12:25:13.859Z"
   },
   {
    "duration": 4,
    "start_time": "2023-03-24T12:25:16.062Z"
   },
   {
    "duration": 4,
    "start_time": "2023-03-24T12:25:20.258Z"
   },
   {
    "duration": 3,
    "start_time": "2023-03-24T12:25:21.858Z"
   },
   {
    "duration": 3,
    "start_time": "2023-03-24T12:26:05.688Z"
   },
   {
    "duration": 3,
    "start_time": "2023-03-24T12:26:06.504Z"
   },
   {
    "duration": 4,
    "start_time": "2023-03-24T12:26:07.007Z"
   },
   {
    "duration": 17011,
    "start_time": "2023-03-24T12:26:08.178Z"
   },
   {
    "duration": 2,
    "start_time": "2023-03-24T12:26:25.192Z"
   },
   {
    "duration": 10,
    "start_time": "2023-03-24T12:26:25.196Z"
   },
   {
    "duration": 7,
    "start_time": "2023-03-24T12:26:25.209Z"
   },
   {
    "duration": 2752125,
    "start_time": "2023-03-24T12:26:25.218Z"
   },
   {
    "duration": 0,
    "start_time": "2023-03-24T13:12:17.346Z"
   },
   {
    "duration": 0,
    "start_time": "2023-03-24T13:12:17.348Z"
   },
   {
    "duration": 0,
    "start_time": "2023-03-24T13:12:17.350Z"
   },
   {
    "duration": 0,
    "start_time": "2023-03-24T13:12:17.351Z"
   },
   {
    "duration": 0,
    "start_time": "2023-03-24T13:12:17.352Z"
   },
   {
    "duration": 0,
    "start_time": "2023-03-24T13:12:17.352Z"
   },
   {
    "duration": 4,
    "start_time": "2023-03-24T13:12:23.541Z"
   },
   {
    "duration": 4,
    "start_time": "2023-03-24T13:12:24.040Z"
   },
   {
    "duration": 4,
    "start_time": "2023-03-24T13:12:24.367Z"
   },
   {
    "duration": 598144,
    "start_time": "2023-03-24T13:12:26.141Z"
   },
   {
    "duration": 13,
    "start_time": "2023-03-24T13:23:03.748Z"
   },
   {
    "duration": 26,
    "start_time": "2023-03-24T13:23:07.485Z"
   },
   {
    "duration": 14,
    "start_time": "2023-03-24T13:23:15.459Z"
   },
   {
    "duration": 17,
    "start_time": "2023-03-24T13:23:17.650Z"
   },
   {
    "duration": 23,
    "start_time": "2023-03-24T13:23:24.948Z"
   },
   {
    "duration": 12,
    "start_time": "2023-03-24T13:23:35.774Z"
   },
   {
    "duration": 13,
    "start_time": "2023-03-24T13:24:35.956Z"
   },
   {
    "duration": 63,
    "start_time": "2023-03-24T13:24:41.385Z"
   },
   {
    "duration": 24,
    "start_time": "2023-03-24T13:24:54.606Z"
   },
   {
    "duration": 10,
    "start_time": "2023-03-24T13:24:58.985Z"
   },
   {
    "duration": 7,
    "start_time": "2023-03-24T13:25:01.758Z"
   },
   {
    "duration": 5,
    "start_time": "2023-03-24T13:25:04.759Z"
   },
   {
    "duration": 13,
    "start_time": "2023-03-24T13:25:13.198Z"
   },
   {
    "duration": 14,
    "start_time": "2023-03-24T13:25:16.462Z"
   },
   {
    "duration": 4,
    "start_time": "2023-03-24T13:25:21.249Z"
   },
   {
    "duration": 5,
    "start_time": "2023-03-24T13:25:27.719Z"
   },
   {
    "duration": 14,
    "start_time": "2023-03-24T13:25:32.168Z"
   },
   {
    "duration": 6,
    "start_time": "2023-03-24T13:25:35.551Z"
   },
   {
    "duration": 24835,
    "start_time": "2023-03-24T15:17:35.021Z"
   },
   {
    "duration": 3099,
    "start_time": "2023-03-24T15:17:59.858Z"
   },
   {
    "duration": 307,
    "start_time": "2023-03-24T15:18:02.959Z"
   },
   {
    "duration": 2,
    "start_time": "2023-03-24T15:18:03.268Z"
   },
   {
    "duration": 133,
    "start_time": "2023-03-24T15:18:03.272Z"
   },
   {
    "duration": 23,
    "start_time": "2023-03-24T15:18:03.406Z"
   },
   {
    "duration": 4,
    "start_time": "2023-03-24T15:18:03.431Z"
   },
   {
    "duration": 42,
    "start_time": "2023-03-24T15:18:03.436Z"
   },
   {
    "duration": 14,
    "start_time": "2023-03-24T15:18:03.480Z"
   },
   {
    "duration": 16,
    "start_time": "2023-03-24T15:18:03.496Z"
   },
   {
    "duration": 11,
    "start_time": "2023-03-24T15:18:03.514Z"
   },
   {
    "duration": 14,
    "start_time": "2023-03-24T15:18:03.527Z"
   },
   {
    "duration": 30,
    "start_time": "2023-03-24T15:18:03.542Z"
   },
   {
    "duration": 28,
    "start_time": "2023-03-24T15:18:03.574Z"
   },
   {
    "duration": 213,
    "start_time": "2023-03-24T15:18:03.604Z"
   },
   {
    "duration": 0,
    "start_time": "2023-03-24T15:18:03.819Z"
   },
   {
    "duration": 0,
    "start_time": "2023-03-24T15:18:03.820Z"
   },
   {
    "duration": 0,
    "start_time": "2023-03-24T15:18:03.822Z"
   },
   {
    "duration": 0,
    "start_time": "2023-03-24T15:18:03.823Z"
   },
   {
    "duration": 0,
    "start_time": "2023-03-24T15:18:03.823Z"
   },
   {
    "duration": 0,
    "start_time": "2023-03-24T15:18:03.824Z"
   },
   {
    "duration": 0,
    "start_time": "2023-03-24T15:18:03.825Z"
   },
   {
    "duration": 0,
    "start_time": "2023-03-24T15:18:03.826Z"
   },
   {
    "duration": 0,
    "start_time": "2023-03-24T15:18:03.827Z"
   },
   {
    "duration": 0,
    "start_time": "2023-03-24T15:18:03.828Z"
   },
   {
    "duration": 0,
    "start_time": "2023-03-24T15:18:03.830Z"
   },
   {
    "duration": 0,
    "start_time": "2023-03-24T15:18:03.831Z"
   },
   {
    "duration": 0,
    "start_time": "2023-03-24T15:18:03.831Z"
   },
   {
    "duration": 0,
    "start_time": "2023-03-24T15:18:03.832Z"
   },
   {
    "duration": 0,
    "start_time": "2023-03-24T15:18:03.833Z"
   },
   {
    "duration": 0,
    "start_time": "2023-03-24T15:18:03.834Z"
   },
   {
    "duration": 0,
    "start_time": "2023-03-24T15:18:03.835Z"
   },
   {
    "duration": 0,
    "start_time": "2023-03-24T15:18:03.836Z"
   },
   {
    "duration": 0,
    "start_time": "2023-03-24T15:18:03.837Z"
   },
   {
    "duration": 0,
    "start_time": "2023-03-24T15:18:03.872Z"
   },
   {
    "duration": 0,
    "start_time": "2023-03-24T15:18:03.873Z"
   },
   {
    "duration": 0,
    "start_time": "2023-03-24T15:18:03.874Z"
   },
   {
    "duration": 0,
    "start_time": "2023-03-24T15:18:03.876Z"
   },
   {
    "duration": 0,
    "start_time": "2023-03-24T15:18:03.877Z"
   },
   {
    "duration": 0,
    "start_time": "2023-03-24T15:18:03.880Z"
   },
   {
    "duration": 0,
    "start_time": "2023-03-24T15:18:03.881Z"
   },
   {
    "duration": 0,
    "start_time": "2023-03-24T15:18:03.883Z"
   },
   {
    "duration": 0,
    "start_time": "2023-03-24T15:18:03.884Z"
   },
   {
    "duration": 0,
    "start_time": "2023-03-24T15:18:03.885Z"
   },
   {
    "duration": 0,
    "start_time": "2023-03-24T15:18:03.886Z"
   },
   {
    "duration": 0,
    "start_time": "2023-03-24T15:18:03.887Z"
   },
   {
    "duration": 0,
    "start_time": "2023-03-24T15:18:03.887Z"
   },
   {
    "duration": 0,
    "start_time": "2023-03-24T15:18:03.888Z"
   },
   {
    "duration": 1,
    "start_time": "2023-03-24T15:18:03.889Z"
   },
   {
    "duration": 0,
    "start_time": "2023-03-24T15:18:03.891Z"
   },
   {
    "duration": 0,
    "start_time": "2023-03-24T15:18:03.892Z"
   },
   {
    "duration": 0,
    "start_time": "2023-03-24T15:18:03.893Z"
   },
   {
    "duration": 1,
    "start_time": "2023-03-24T15:18:03.894Z"
   },
   {
    "duration": 0,
    "start_time": "2023-03-24T15:18:03.895Z"
   },
   {
    "duration": 6,
    "start_time": "2023-03-24T15:20:32.764Z"
   },
   {
    "duration": 11,
    "start_time": "2023-03-24T15:20:38.643Z"
   },
   {
    "duration": 14677,
    "start_time": "2023-03-24T15:20:48.815Z"
   },
   {
    "duration": 2708,
    "start_time": "2023-03-24T15:21:03.495Z"
   },
   {
    "duration": 101,
    "start_time": "2023-03-24T15:21:06.204Z"
   },
   {
    "duration": 3,
    "start_time": "2023-03-24T15:21:06.307Z"
   },
   {
    "duration": 123,
    "start_time": "2023-03-24T15:21:06.312Z"
   },
   {
    "duration": 40,
    "start_time": "2023-03-24T15:21:06.436Z"
   },
   {
    "duration": 4,
    "start_time": "2023-03-24T15:21:06.477Z"
   },
   {
    "duration": 16,
    "start_time": "2023-03-24T15:21:06.482Z"
   },
   {
    "duration": 13,
    "start_time": "2023-03-24T15:21:06.499Z"
   },
   {
    "duration": 13,
    "start_time": "2023-03-24T15:21:06.515Z"
   },
   {
    "duration": 10,
    "start_time": "2023-03-24T15:21:06.530Z"
   },
   {
    "duration": 35,
    "start_time": "2023-03-24T15:21:06.542Z"
   },
   {
    "duration": 3,
    "start_time": "2023-03-24T15:21:06.578Z"
   },
   {
    "duration": 24,
    "start_time": "2023-03-24T15:21:06.582Z"
   },
   {
    "duration": 7,
    "start_time": "2023-03-24T15:21:06.607Z"
   },
   {
    "duration": 10,
    "start_time": "2023-03-24T15:21:06.615Z"
   },
   {
    "duration": 14,
    "start_time": "2023-03-24T15:21:06.626Z"
   },
   {
    "duration": 34,
    "start_time": "2023-03-24T15:21:06.641Z"
   },
   {
    "duration": 3,
    "start_time": "2023-03-24T15:21:06.677Z"
   },
   {
    "duration": 815,
    "start_time": "2023-03-24T15:21:06.681Z"
   },
   {
    "duration": 4,
    "start_time": "2023-03-24T15:21:07.498Z"
   },
   {
    "duration": 29,
    "start_time": "2023-03-24T15:21:07.504Z"
   },
   {
    "duration": 9,
    "start_time": "2023-03-24T15:21:07.535Z"
   },
   {
    "duration": 25,
    "start_time": "2023-03-24T15:21:07.546Z"
   },
   {
    "duration": 4,
    "start_time": "2023-03-24T15:21:07.573Z"
   },
   {
    "duration": 302,
    "start_time": "2023-03-24T15:21:07.579Z"
   },
   {
    "duration": 17193,
    "start_time": "2023-03-24T15:21:07.882Z"
   },
   {
    "duration": 539,
    "start_time": "2023-03-24T15:21:25.080Z"
   },
   {
    "duration": 560,
    "start_time": "2023-03-24T15:21:25.620Z"
   },
   {
    "duration": 268,
    "start_time": "2023-03-24T15:21:26.182Z"
   },
   {
    "duration": 627,
    "start_time": "2023-03-24T15:21:26.452Z"
   },
   {
    "duration": 450,
    "start_time": "2023-03-24T15:21:27.081Z"
   },
   {
    "duration": 643,
    "start_time": "2023-03-24T15:21:27.532Z"
   },
   {
    "duration": 7,
    "start_time": "2023-03-24T15:21:28.177Z"
   },
   {
    "duration": 6,
    "start_time": "2023-03-24T15:21:28.186Z"
   },
   {
    "duration": 10,
    "start_time": "2023-03-24T15:21:28.193Z"
   },
   {
    "duration": 3,
    "start_time": "2023-03-24T15:21:28.205Z"
   },
   {
    "duration": 7,
    "start_time": "2023-03-24T15:21:28.209Z"
   },
   {
    "duration": 7,
    "start_time": "2023-03-24T15:21:28.218Z"
   },
   {
    "duration": 5,
    "start_time": "2023-03-24T15:21:28.226Z"
   },
   {
    "duration": 7,
    "start_time": "2023-03-24T15:21:28.232Z"
   },
   {
    "duration": 4,
    "start_time": "2023-03-24T15:21:28.241Z"
   },
   {
    "duration": 27,
    "start_time": "2023-03-24T15:21:28.246Z"
   },
   {
    "duration": 13571,
    "start_time": "2023-03-24T15:21:28.274Z"
   },
   {
    "duration": 3,
    "start_time": "2023-03-24T15:21:41.847Z"
   },
   {
    "duration": 9,
    "start_time": "2023-03-24T15:21:41.851Z"
   },
   {
    "duration": 6,
    "start_time": "2023-03-24T15:21:41.862Z"
   },
   {
    "duration": 270417,
    "start_time": "2023-03-24T15:21:41.872Z"
   },
   {
    "duration": 3,
    "start_time": "2023-03-24T15:26:12.290Z"
   },
   {
    "duration": 8,
    "start_time": "2023-03-24T15:26:12.294Z"
   },
   {
    "duration": 7,
    "start_time": "2023-03-24T15:26:12.303Z"
   },
   {
    "duration": 318155,
    "start_time": "2023-03-24T15:26:12.311Z"
   },
   {
    "duration": 35,
    "start_time": "2023-03-24T15:31:30.468Z"
   },
   {
    "duration": 280,
    "start_time": "2023-03-24T15:31:30.505Z"
   },
   {
    "duration": 6,
    "start_time": "2023-03-24T15:31:30.787Z"
   },
   {
    "duration": 449,
    "start_time": "2023-03-24T15:34:48.487Z"
   },
   {
    "duration": 356,
    "start_time": "2023-03-24T15:35:33.975Z"
   },
   {
    "duration": 370,
    "start_time": "2023-03-24T15:35:40.005Z"
   }
  ],
  "colab": {
   "provenance": [],
   "toc_visible": true
  },
  "kernelspec": {
   "display_name": "Python 3 (ipykernel)",
   "language": "python",
   "name": "python3"
  },
  "language_info": {
   "codemirror_mode": {
    "name": "ipython",
    "version": 3
   },
   "file_extension": ".py",
   "mimetype": "text/x-python",
   "name": "python",
   "nbconvert_exporter": "python",
   "pygments_lexer": "ipython3",
   "version": "3.11.3"
  },
  "toc": {
   "base_numbering": 1,
   "nav_menu": {
    "height": "534.99px",
    "width": "240.99px"
   },
   "number_sections": true,
   "sideBar": true,
   "skip_h1_title": true,
   "title_cell": "Table of Contents",
   "title_sidebar": "Contents",
   "toc_cell": false,
   "toc_position": {
    "height": "calc(100% - 180px)",
    "left": "10px",
    "top": "150px",
    "width": "165px"
   },
   "toc_section_display": true,
   "toc_window_display": true
  }
 },
 "nbformat": 4,
 "nbformat_minor": 1
}
